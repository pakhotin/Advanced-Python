{
  "nbformat": 4,
  "nbformat_minor": 0,
  "metadata": {
    "kernelspec": {
      "display_name": "Python 3",
      "language": "python",
      "name": "python3"
    },
    "language_info": {
      "codemirror_mode": {
        "name": "ipython",
        "version": 3
      },
      "file_extension": ".py",
      "mimetype": "text/x-python",
      "name": "python",
      "nbconvert_exporter": "python",
      "pygments_lexer": "ipython3",
      "version": "3.7.4"
    },
    "colab": {
      "name": "Functions.ipynb",
      "provenance": [],
      "collapsed_sections": [
        "oedhCTwuVAWd",
        "WSUA9fSfVAWr",
        "2WN-A5JAVAW5",
        "oKzIWVxKVAXi",
        "HtB3us7eVAYE",
        "9vB6qkKgVAY6"
      ],
      "toc_visible": true,
      "include_colab_link": true
    }
  },
  "cells": [
    {
      "cell_type": "markdown",
      "metadata": {
        "id": "view-in-github",
        "colab_type": "text"
      },
      "source": [
        "<a href=\"https://colab.research.google.com/github/pakhotin/Advanced-Python/blob/master/Functions.ipynb\" target=\"_parent\"><img src=\"https://colab.research.google.com/assets/colab-badge.svg\" alt=\"Open In Colab\"/></a>"
      ]
    },
    {
      "cell_type": "markdown",
      "metadata": {
        "id": "JuNFpjL8VAVK",
        "colab_type": "text"
      },
      "source": [
        "# Python Functions"
      ]
    },
    {
      "cell_type": "markdown",
      "metadata": {
        "id": "L7DcDbfKVAVS",
        "colab_type": "text"
      },
      "source": [
        "## Function Syntax"
      ]
    },
    {
      "cell_type": "code",
      "metadata": {
        "id": "fG6wbF0-VAVW",
        "colab_type": "code",
        "colab": {}
      },
      "source": [
        "def function_name(parameters):\n",
        "    statements"
      ],
      "execution_count": 0,
      "outputs": []
    },
    {
      "cell_type": "markdown",
      "metadata": {
        "id": "oHIEv2F2VAVi",
        "colab_type": "text"
      },
      "source": [
        "## Docstring"
      ]
    },
    {
      "cell_type": "markdown",
      "metadata": {
        "id": "ludSnmq4VAVk",
        "colab_type": "text"
      },
      "source": [
        "**Docstring** - the first string after the function header is used to explain in brief, what a function does. It might take multiple lines."
      ]
    },
    {
      "cell_type": "code",
      "metadata": {
        "id": "aijoW0DaVAVo",
        "colab_type": "code",
        "outputId": "9893f5c4-6499-4dda-b7b5-0377987a4533",
        "colab": {}
      },
      "source": [
        "def fun():\n",
        "    '''This function prints\n",
        "    Hello, World message'''\n",
        "    print(\"Hello, World\")\n",
        "\n",
        "fun()"
      ],
      "execution_count": 0,
      "outputs": [
        {
          "output_type": "stream",
          "text": [
            "Hello, World\n"
          ],
          "name": "stdout"
        }
      ]
    },
    {
      "cell_type": "markdown",
      "metadata": {
        "id": "VZQ5bpt5VAV0",
        "colab_type": "text"
      },
      "source": [
        "This docstring is available to us as `__doc__` attribute of the function. Note, triple `\"\"\"` or `'''` are equivalent."
      ]
    },
    {
      "cell_type": "code",
      "metadata": {
        "id": "R737ArxPVAV2",
        "colab_type": "code",
        "outputId": "5313e4cb-213a-41a1-89d8-1190054e5609",
        "colab": {}
      },
      "source": [
        "def fun():\n",
        "    \"\"\"This function prints\n",
        "    Hello, World message\"\"\"\n",
        "    print(\"Hello, World\")\n",
        "\n",
        "print(fun.__doc__)"
      ],
      "execution_count": 0,
      "outputs": [
        {
          "output_type": "stream",
          "text": [
            "This function prints\n",
            "    Hello, World message\n"
          ],
          "name": "stdout"
        }
      ]
    },
    {
      "cell_type": "markdown",
      "metadata": {
        "id": "UGsxmykPVAWB",
        "colab_type": "text"
      },
      "source": [
        "## Global, Local and Nonlocal variables"
      ]
    },
    {
      "cell_type": "markdown",
      "metadata": {
        "id": "OGIQBfwqVAWE",
        "colab_type": "text"
      },
      "source": [
        "Good description of Python variables can be found in the following:\n",
        " * [programiz.com](https://www.programiz.com/python-programming/global-local-nonlocal-variables)"
      ]
    },
    {
      "cell_type": "markdown",
      "metadata": {
        "id": "DsNtI8CiVAWH",
        "colab_type": "text"
      },
      "source": [
        "### Global Variable"
      ]
    },
    {
      "cell_type": "markdown",
      "metadata": {
        "id": "cS1KhzRNVAWJ",
        "colab_type": "text"
      },
      "source": [
        "**Global variable** - a variable declaired outside function. No keyword `global` or type of variable is required."
      ]
    },
    {
      "cell_type": "code",
      "metadata": {
        "id": "IeS5e_HlVAWM",
        "colab_type": "code",
        "outputId": "24d8123c-80a6-4f3e-b997-6edd2322ad4a",
        "colab": {}
      },
      "source": [
        "# Declare global variable\n",
        "v = 5\n",
        "\n",
        "def fun():\n",
        "    '''Access and print global variable'''\n",
        "    print(\"global variable inside function = \", v)\n",
        "\n",
        "fun()\n",
        "print(\"global variable outside function = \", v)"
      ],
      "execution_count": 0,
      "outputs": [
        {
          "output_type": "stream",
          "text": [
            "global variable inside function =  5\n",
            "global variable outside function =  5\n"
          ],
          "name": "stdout"
        }
      ]
    },
    {
      "cell_type": "markdown",
      "metadata": {
        "id": "HoF4FZeOVAWR",
        "colab_type": "text"
      },
      "source": [
        "Global variable is accessible for **reading** from any function in the same script. But global variable can not be changed."
      ]
    },
    {
      "cell_type": "code",
      "metadata": {
        "id": "hZouHweiVAWS",
        "colab_type": "code",
        "outputId": "ffd0cf4e-a07c-4048-add9-3d81a505429c",
        "colab": {}
      },
      "source": [
        "# Declare global variable\n",
        "v = 5\n",
        "\n",
        "def fun():\n",
        "    '''Change and print global variable'''\n",
        "    v = v + 1\n",
        "    print(\"global variable inside function = \", v)\n",
        "\n",
        "fun()\n",
        "print(\"global variable outside function = \", v)"
      ],
      "execution_count": 0,
      "outputs": [
        {
          "output_type": "error",
          "ename": "UnboundLocalError",
          "evalue": "local variable 'v' referenced before assignment",
          "traceback": [
            "\u001b[1;31m---------------------------------------------------------------------------\u001b[0m",
            "\u001b[1;31mUnboundLocalError\u001b[0m                         Traceback (most recent call last)",
            "\u001b[1;32m<ipython-input-6-facfebf304f6>\u001b[0m in \u001b[0;36m<module>\u001b[1;34m\u001b[0m\n\u001b[0;32m      7\u001b[0m     \u001b[0mprint\u001b[0m\u001b[1;33m(\u001b[0m\u001b[1;34m\"global variable inside function = \"\u001b[0m\u001b[1;33m,\u001b[0m \u001b[0mv\u001b[0m\u001b[1;33m)\u001b[0m\u001b[1;33m\u001b[0m\u001b[1;33m\u001b[0m\u001b[0m\n\u001b[0;32m      8\u001b[0m \u001b[1;33m\u001b[0m\u001b[0m\n\u001b[1;32m----> 9\u001b[1;33m \u001b[0mfun\u001b[0m\u001b[1;33m(\u001b[0m\u001b[1;33m)\u001b[0m\u001b[1;33m\u001b[0m\u001b[1;33m\u001b[0m\u001b[0m\n\u001b[0m\u001b[0;32m     10\u001b[0m \u001b[0mprint\u001b[0m\u001b[1;33m(\u001b[0m\u001b[1;34m\"global variable outside function = \"\u001b[0m\u001b[1;33m,\u001b[0m \u001b[0mv\u001b[0m\u001b[1;33m)\u001b[0m\u001b[1;33m\u001b[0m\u001b[1;33m\u001b[0m\u001b[0m\n",
            "\u001b[1;32m<ipython-input-6-facfebf304f6>\u001b[0m in \u001b[0;36mfun\u001b[1;34m()\u001b[0m\n\u001b[0;32m      4\u001b[0m \u001b[1;32mdef\u001b[0m \u001b[0mfun\u001b[0m\u001b[1;33m(\u001b[0m\u001b[1;33m)\u001b[0m\u001b[1;33m:\u001b[0m\u001b[1;33m\u001b[0m\u001b[1;33m\u001b[0m\u001b[0m\n\u001b[0;32m      5\u001b[0m     \u001b[1;34m'''Change and print global variable'''\u001b[0m\u001b[1;33m\u001b[0m\u001b[1;33m\u001b[0m\u001b[0m\n\u001b[1;32m----> 6\u001b[1;33m     \u001b[0mv\u001b[0m \u001b[1;33m=\u001b[0m \u001b[0mv\u001b[0m \u001b[1;33m+\u001b[0m \u001b[1;36m1\u001b[0m\u001b[1;33m\u001b[0m\u001b[1;33m\u001b[0m\u001b[0m\n\u001b[0m\u001b[0;32m      7\u001b[0m     \u001b[0mprint\u001b[0m\u001b[1;33m(\u001b[0m\u001b[1;34m\"global variable inside function = \"\u001b[0m\u001b[1;33m,\u001b[0m \u001b[0mv\u001b[0m\u001b[1;33m)\u001b[0m\u001b[1;33m\u001b[0m\u001b[1;33m\u001b[0m\u001b[0m\n\u001b[0;32m      8\u001b[0m \u001b[1;33m\u001b[0m\u001b[0m\n",
            "\u001b[1;31mUnboundLocalError\u001b[0m: local variable 'v' referenced before assignment"
          ]
        }
      ]
    },
    {
      "cell_type": "markdown",
      "metadata": {
        "id": "AtHVwcWuVAWa",
        "colab_type": "text"
      },
      "source": [
        "Python throws an error `UnboundLocalError: local variable 'v' referenced before assignment` because if you try to change a variable it is treated as local, but locally it was **not** defined."
      ]
    },
    {
      "cell_type": "markdown",
      "metadata": {
        "id": "oedhCTwuVAWd",
        "colab_type": "text"
      },
      "source": [
        "### Keyword `global`"
      ]
    },
    {
      "cell_type": "markdown",
      "metadata": {
        "id": "0zZvdGq4VAWf",
        "colab_type": "text"
      },
      "source": [
        "If we do want to **change** global variable locally inside function, then we need to use key word `global`."
      ]
    },
    {
      "cell_type": "code",
      "metadata": {
        "id": "L-J6UuQIVAWg",
        "colab_type": "code",
        "outputId": "563384d6-f687-4bad-90a9-93b7f9545945",
        "colab": {}
      },
      "source": [
        "# Declare global variable\n",
        "v = 5\n",
        "\n",
        "def fun():\n",
        "    '''Change and print global variable'''\n",
        "    global v\n",
        "    v = v + 1\n",
        "    print(\"global variable inside function = \", v)\n",
        "\n",
        "fun()\n",
        "print(\"global variable outside function = \", v)"
      ],
      "execution_count": 0,
      "outputs": [
        {
          "output_type": "stream",
          "text": [
            "global variable inside function =  6\n",
            "global variable outside function =  6\n"
          ],
          "name": "stdout"
        }
      ]
    },
    {
      "cell_type": "markdown",
      "metadata": {
        "id": "N94E7MYsVAWm",
        "colab_type": "text"
      },
      "source": [
        "Now global variable was successfully changed inside the function and this change is permanent to the global variable."
      ]
    },
    {
      "cell_type": "markdown",
      "metadata": {
        "id": "hGf3wqwnVAWq",
        "colab_type": "text"
      },
      "source": [
        "But what is happen if we don't change but **redefine** global variable inside function? In this case new variable with the **same** name will be created inside function, **locally**."
      ]
    },
    {
      "cell_type": "markdown",
      "metadata": {
        "id": "WSUA9fSfVAWr",
        "colab_type": "text"
      },
      "source": [
        "### Local Variable"
      ]
    },
    {
      "cell_type": "markdown",
      "metadata": {
        "id": "0PcCznlLVAWw",
        "colab_type": "text"
      },
      "source": [
        "**Local variable** - a variable declared inside function. No keyword `local` or type of variable is required."
      ]
    },
    {
      "cell_type": "code",
      "metadata": {
        "id": "lkVGFssVVAWz",
        "colab_type": "code",
        "outputId": "f0143626-ffb3-4038-a81b-47e9d1ad0495",
        "colab": {}
      },
      "source": [
        "# Declare global variable\n",
        "v = 5\n",
        "\n",
        "def fun():\n",
        "    '''Redefine global variable and print it'''\n",
        "    v = 1\n",
        "    print(\"redefined global variable inside function is now local = \", v)\n",
        "\n",
        "fun()\n",
        "print(\"global variable outside function stays the same = \", v)"
      ],
      "execution_count": 0,
      "outputs": [
        {
          "output_type": "stream",
          "text": [
            "redefined global variable inside function is now local =  1\n",
            "global variable outside function stays the same =  5\n"
          ],
          "name": "stdout"
        }
      ]
    },
    {
      "cell_type": "markdown",
      "metadata": {
        "id": "Kyu6UeFrVAW4",
        "colab_type": "text"
      },
      "source": [
        "Note, local variable with name `v` doesn't affect global variable with the same name `v` in any way. In pseudocode we can consider existence of two variables `global.v` and `local.v` in our script, but only `local.v` is now refered as `v` inside function."
      ]
    },
    {
      "cell_type": "markdown",
      "metadata": {
        "id": "2WN-A5JAVAW5",
        "colab_type": "text"
      },
      "source": [
        "### Nonlocal Variable"
      ]
    },
    {
      "cell_type": "markdown",
      "metadata": {
        "id": "I0VRl1ueVAW8",
        "colab_type": "text"
      },
      "source": [
        "**Nonlocal Variable** - is a variable created in nested function. We need to use key word `nonlocal` to define it. Example from [programiz.com](https://www.programiz.com/python-programming/global-local-nonlocal-variables):"
      ]
    },
    {
      "cell_type": "code",
      "metadata": {
        "id": "T4SglJC7VAW_",
        "colab_type": "code",
        "outputId": "5e950665-e045-403a-f909-100d71975bd5",
        "colab": {}
      },
      "source": [
        "def outer():\n",
        "    x = \"outer\"\n",
        "    \n",
        "    def inner():\n",
        "        nonlocal x\n",
        "        x = \"inner\"\n",
        "        print(\"x in inner function = \", x)\n",
        "    \n",
        "    inner()\n",
        "    print(\"x in outer function = \", x)\n",
        "\n",
        "outer()"
      ],
      "execution_count": 0,
      "outputs": [
        {
          "output_type": "stream",
          "text": [
            "x in inner function =  inner\n",
            "x in outer function =  inner\n"
          ],
          "name": "stdout"
        }
      ]
    },
    {
      "cell_type": "markdown",
      "metadata": {
        "id": "RJaOl_F9VAXG",
        "colab_type": "text"
      },
      "source": [
        "Note, that variable `x` was changed in `inner` function and stays changed in `outer` function. Compare with the same code but when variable `x` in function `inner` is not defined as `nonlocal`:"
      ]
    },
    {
      "cell_type": "code",
      "metadata": {
        "id": "T_55QJqPVAXJ",
        "colab_type": "code",
        "outputId": "570426fb-04d7-48a8-caaa-c02ffb0fb0e8",
        "colab": {}
      },
      "source": [
        "def outer():\n",
        "    x = \"outer\"\n",
        "    \n",
        "    def inner():\n",
        "        ### nonlocal x\n",
        "        x = \"inner\"\n",
        "        print(\"x in inner function = \", x)\n",
        "    \n",
        "    inner()\n",
        "    print(\"x in outer function = \", x)\n",
        "\n",
        "outer()"
      ],
      "execution_count": 0,
      "outputs": [
        {
          "output_type": "stream",
          "text": [
            "x in inner function =  inner\n",
            "x in outer function =  outer\n"
          ],
          "name": "stdout"
        }
      ]
    },
    {
      "cell_type": "markdown",
      "metadata": {
        "id": "sNfu852_VAXP",
        "colab_type": "text"
      },
      "source": [
        "Now `x` in `outer` and `x` in `inner` functions are both local and different."
      ]
    },
    {
      "cell_type": "markdown",
      "metadata": {
        "id": "G2mE0KL4VAXS",
        "colab_type": "text"
      },
      "source": [
        "## Nested Function"
      ]
    },
    {
      "cell_type": "markdown",
      "metadata": {
        "id": "l0fvQbWLVAXV",
        "colab_type": "text"
      },
      "source": [
        "Function inside function"
      ]
    },
    {
      "cell_type": "markdown",
      "metadata": {
        "id": "7NXMSC8GVAXX",
        "colab_type": "text"
      },
      "source": [
        "## Function Returns Function"
      ]
    },
    {
      "cell_type": "markdown",
      "metadata": {
        "id": "y-MhL20xVAXX",
        "colab_type": "text"
      },
      "source": [
        "Example from [datacamp.com](https://campus.datacamp.com/courses/python-data-science-toolbox-part-1)"
      ]
    },
    {
      "cell_type": "code",
      "metadata": {
        "id": "eofxmmLlVAXZ",
        "colab_type": "code",
        "outputId": "e66d3fb6-cdfe-4af5-9287-8ad53a139617",
        "colab": {}
      },
      "source": [
        "def raise_val(n):\n",
        "    '''Return the inner function'''\n",
        "    \n",
        "    def inner(x):\n",
        "        '''Raise x to power of n'''\n",
        "        raised = x ** n\n",
        "        return raised # this function returns variable\n",
        "    \n",
        "    return inner # this function returns function!\n",
        "\n",
        "square = raise_val(2) # square is function!\n",
        "cube = raise_val(3) # cube is function!\n",
        "\n",
        "print(\"type of square = \", type(square))\n",
        "print(\"type of cube\",type(cube))\n",
        "\n",
        "print(square(10))\n",
        "print(cube(10))"
      ],
      "execution_count": 0,
      "outputs": [
        {
          "output_type": "stream",
          "text": [
            "type of square =  <class 'function'>\n",
            "type of cube <class 'function'>\n",
            "100\n",
            "1000\n"
          ],
          "name": "stdout"
        }
      ]
    },
    {
      "cell_type": "markdown",
      "metadata": {
        "id": "mSNEE0CaVAXg",
        "colab_type": "text"
      },
      "source": [
        "## Function Arguments"
      ]
    },
    {
      "cell_type": "markdown",
      "metadata": {
        "id": "oKzIWVxKVAXi",
        "colab_type": "text"
      },
      "source": [
        "### Default Arguments"
      ]
    },
    {
      "cell_type": "markdown",
      "metadata": {
        "id": "WQeQjXCgVAXk",
        "colab_type": "text"
      },
      "source": [
        "Deafult arguments are defined in function header:"
      ]
    },
    {
      "cell_type": "code",
      "metadata": {
        "id": "R1SXLgjtVAXl",
        "colab_type": "code",
        "colab": {}
      },
      "source": [
        "def fun(v1, v2 = 1, v3 = 2):\n",
        "    print(\"v1 = \", v1)\n",
        "    print(\"v2 = \", v2)\n",
        "    print(\"v3 = \", v3)"
      ],
      "execution_count": 0,
      "outputs": []
    },
    {
      "cell_type": "markdown",
      "metadata": {
        "id": "2VlrZzjEVAXq",
        "colab_type": "text"
      },
      "source": [
        "If we supply second argument for the function, then `v2` gets its new value, but `v3` will be default:"
      ]
    },
    {
      "cell_type": "code",
      "metadata": {
        "id": "VyoM8aCsVAXt",
        "colab_type": "code",
        "outputId": "c5518447-8a39-4cfc-8e30-8908802d3a5d",
        "colab": {}
      },
      "source": [
        "fun(1,2)"
      ],
      "execution_count": 0,
      "outputs": [
        {
          "output_type": "stream",
          "text": [
            "v1 =  1\n",
            "v2 =  2\n",
            "v3 =  2\n"
          ],
          "name": "stdout"
        }
      ]
    },
    {
      "cell_type": "markdown",
      "metadata": {
        "id": "ORH3QmSrVAXz",
        "colab_type": "text"
      },
      "source": [
        "If we supply only first argument, then deafualt values `v2=1` and `v3=2` will be used in the function:"
      ]
    },
    {
      "cell_type": "code",
      "metadata": {
        "id": "P116rt0bVAX1",
        "colab_type": "code",
        "outputId": "8e147645-8649-4bca-ab4b-bab33274ef66",
        "colab": {}
      },
      "source": [
        "fun(1)"
      ],
      "execution_count": 0,
      "outputs": [
        {
          "output_type": "stream",
          "text": [
            "v1 =  1\n",
            "v2 =  1\n",
            "v3 =  2\n"
          ],
          "name": "stdout"
        }
      ]
    },
    {
      "cell_type": "markdown",
      "metadata": {
        "id": "HLluwkdFVAX7",
        "colab_type": "text"
      },
      "source": [
        "If we submit argument with its name, then it will change only it:"
      ]
    },
    {
      "cell_type": "code",
      "metadata": {
        "id": "5VcyOp2IVAX-",
        "colab_type": "code",
        "outputId": "50dcf64e-8424-411b-f554-27bfdf6f2bdf",
        "colab": {}
      },
      "source": [
        "fun(1, v3 = 3)"
      ],
      "execution_count": 0,
      "outputs": [
        {
          "output_type": "stream",
          "text": [
            "v1 =  1\n",
            "v2 =  1\n",
            "v3 =  3\n"
          ],
          "name": "stdout"
        }
      ]
    },
    {
      "cell_type": "markdown",
      "metadata": {
        "id": "HtB3us7eVAYE",
        "colab_type": "text"
      },
      "source": [
        "### Flexible Arguments"
      ]
    },
    {
      "cell_type": "markdown",
      "metadata": {
        "id": "rHisZcr5VAYF",
        "colab_type": "text"
      },
      "source": [
        "Function could accept any number of arguments. Such input starts with `*`, it is usually called `*args` (as in C++) but it could be anything, what is important is preceding `*`. This input is treated as `tuple`:"
      ]
    },
    {
      "cell_type": "code",
      "metadata": {
        "id": "IhmP4RWmVAYF",
        "colab_type": "code",
        "colab": {}
      },
      "source": [
        "def fun(*args):\n",
        "    print(\"args = \", args)\n",
        "    print(\"type = \", type(args))\n",
        "    print(\"len = \", len(args))\n",
        "    for i in args:\n",
        "        print(i)"
      ],
      "execution_count": 0,
      "outputs": []
    },
    {
      "cell_type": "markdown",
      "metadata": {
        "id": "jcvfvyypVAYJ",
        "colab_type": "text"
      },
      "source": [
        "The following is simple example with 1 input:"
      ]
    },
    {
      "cell_type": "code",
      "metadata": {
        "id": "wTIP8CBWVAYL",
        "colab_type": "code",
        "outputId": "1988bbed-c2fc-41ff-f16b-328d10845150",
        "colab": {}
      },
      "source": [
        "fun(1)"
      ],
      "execution_count": 0,
      "outputs": [
        {
          "output_type": "stream",
          "text": [
            "args =  (1,)\n",
            "type =  <class 'tuple'>\n",
            "len =  1\n",
            "1\n"
          ],
          "name": "stdout"
        }
      ]
    },
    {
      "cell_type": "markdown",
      "metadata": {
        "id": "4FPYTCEsVAYR",
        "colab_type": "text"
      },
      "source": [
        "The following is more complex example with multiple inputs of different types:"
      ]
    },
    {
      "cell_type": "code",
      "metadata": {
        "id": "yC49JpFJVAYV",
        "colab_type": "code",
        "outputId": "6dbf3103-a3f9-4461-dc35-ce761542d3e3",
        "colab": {}
      },
      "source": [
        "fun(1,2,3,\"hello\",\"world\",(3,4,5))"
      ],
      "execution_count": 0,
      "outputs": [
        {
          "output_type": "stream",
          "text": [
            "args =  (1, 2, 3, 'hello', 'world', (3, 4, 5))\n",
            "type =  <class 'tuple'>\n",
            "len =  6\n",
            "1\n",
            "2\n",
            "3\n",
            "hello\n",
            "world\n",
            "(3, 4, 5)\n"
          ],
          "name": "stdout"
        }
      ]
    },
    {
      "cell_type": "markdown",
      "metadata": {
        "id": "-jAFs4GtVAYg",
        "colab_type": "text"
      },
      "source": [
        "Function could accept any number of arguments with identifiers. Such input starts with `**`, it is usually called `**kwargs` (as in C++) but it could be anything, what is important is preceding `**`. This input is treated as `dictionary`:"
      ]
    },
    {
      "cell_type": "code",
      "metadata": {
        "id": "GWZY0pgUVAYj",
        "colab_type": "code",
        "colab": {}
      },
      "source": [
        "def fun(**kwargs):\n",
        "    print(\"kwargs = \", kwargs)\n",
        "    print(\"type = \", type(kwargs))\n",
        "    print(\"len = \", len(kwargs))\n",
        "    for key, val in kwargs.items():\n",
        "        print(key + \": \" + str(val))"
      ],
      "execution_count": 0,
      "outputs": []
    },
    {
      "cell_type": "code",
      "metadata": {
        "id": "J5Y8GPGsVAYm",
        "colab_type": "code",
        "outputId": "f09d7152-ecdd-4fdf-cdec-638aac5a20b3",
        "colab": {}
      },
      "source": [
        "fun(var1 = 1)"
      ],
      "execution_count": 0,
      "outputs": [
        {
          "output_type": "stream",
          "text": [
            "kwargs =  {'var1': 1}\n",
            "type =  <class 'dict'>\n",
            "len =  1\n",
            "var1: 1\n"
          ],
          "name": "stdout"
        }
      ]
    },
    {
      "cell_type": "code",
      "metadata": {
        "id": "dqq2-a2pVAYq",
        "colab_type": "code",
        "outputId": "79fd307c-0055-45c5-bbc6-6740337e2db3",
        "colab": {}
      },
      "source": [
        "fun(var1 = 1, var2 = 2, var3 = 3, str1 = \"hello\", str2 = \"world\", tup1 = (3,4,5))"
      ],
      "execution_count": 0,
      "outputs": [
        {
          "output_type": "stream",
          "text": [
            "kwargs =  {'var1': 1, 'var2': 2, 'var3': 3, 'str1': 'hello', 'str2': 'world', 'tup1': (3, 4, 5)}\n",
            "type =  <class 'dict'>\n",
            "len =  6\n",
            "var1: 1\n",
            "var2: 2\n",
            "var3: 3\n",
            "str1: hello\n",
            "str2: world\n",
            "tup1: (3, 4, 5)\n"
          ],
          "name": "stdout"
        }
      ]
    },
    {
      "cell_type": "markdown",
      "metadata": {
        "id": "k_IJEKsFVAYt",
        "colab_type": "text"
      },
      "source": [
        "Finally, function could be defined with mix of all types of arguments, keyword arguments have to follow positional arguments: "
      ]
    },
    {
      "cell_type": "code",
      "metadata": {
        "id": "R4bWhkcRVAYu",
        "colab_type": "code",
        "colab": {}
      },
      "source": [
        "def fun(v1, *args, v2 = 1, **kwargs):\n",
        "    print(\"v1 = \", v1)\n",
        "    print(\"args = \", args)\n",
        "    print(\"v2 = \", v2)\n",
        "    print(\"kwargs = \", kwargs)"
      ],
      "execution_count": 0,
      "outputs": []
    },
    {
      "cell_type": "code",
      "metadata": {
        "id": "DInm8pczVAYz",
        "colab_type": "code",
        "outputId": "f0010363-d3e2-40ac-c54b-6f51b28d5176",
        "colab": {}
      },
      "source": [
        "fun(1)"
      ],
      "execution_count": 0,
      "outputs": [
        {
          "output_type": "stream",
          "text": [
            "v1 =  1\n",
            "args =  ()\n",
            "v2 =  1\n",
            "kwargs =  {}\n"
          ],
          "name": "stdout"
        }
      ]
    },
    {
      "cell_type": "code",
      "metadata": {
        "id": "YcRBEKIXVAY3",
        "colab_type": "code",
        "outputId": "a46f26e9-2cb1-4b87-9941-36431a1a9130",
        "colab": {}
      },
      "source": [
        "fun(1, 2, v2=3, v3=4)"
      ],
      "execution_count": 0,
      "outputs": [
        {
          "output_type": "stream",
          "text": [
            "v1 =  1\n",
            "args =  (2,)\n",
            "v2 =  3\n",
            "kwargs =  {'v3': 4}\n"
          ],
          "name": "stdout"
        }
      ]
    },
    {
      "cell_type": "markdown",
      "metadata": {
        "id": "9vB6qkKgVAY6",
        "colab_type": "text"
      },
      "source": [
        "### Unpacking Operators `*` and `**`"
      ]
    },
    {
      "cell_type": "markdown",
      "metadata": {
        "id": "j-XBlQsZVAY7",
        "colab_type": "text"
      },
      "source": [
        "Single asterisk `*` and double asterisks `**` are unpacking operators:\n",
        " * `*` unpacks iterables (list, tuple)\n",
        " * `**` unpacks dictionaries"
      ]
    },
    {
      "cell_type": "code",
      "metadata": {
        "id": "aCtCSLmMVAY9",
        "colab_type": "code",
        "colab": {}
      },
      "source": [
        "lst = [1, 2, 3, 4]"
      ],
      "execution_count": 0,
      "outputs": []
    },
    {
      "cell_type": "markdown",
      "metadata": {
        "id": "pSvXy1sBVAZB",
        "colab_type": "text"
      },
      "source": [
        "Print this list:"
      ]
    },
    {
      "cell_type": "code",
      "metadata": {
        "id": "zGcLoveQVAZB",
        "colab_type": "code",
        "outputId": "4376b7dd-7810-4606-b7ae-e121d6392d41",
        "colab": {}
      },
      "source": [
        "print(lst)"
      ],
      "execution_count": 0,
      "outputs": [
        {
          "output_type": "stream",
          "text": [
            "[1, 2, 3, 4]\n"
          ],
          "name": "stdout"
        }
      ]
    },
    {
      "cell_type": "markdown",
      "metadata": {
        "id": "IaR82ruSVAZF",
        "colab_type": "text"
      },
      "source": [
        "Print content of the list - unpack it:"
      ]
    },
    {
      "cell_type": "code",
      "metadata": {
        "id": "scyU_y34VAZG",
        "colab_type": "code",
        "outputId": "cab82ea3-78d2-4269-c2b5-5bd25ed22cd2",
        "colab": {}
      },
      "source": [
        "print(*lst)"
      ],
      "execution_count": 0,
      "outputs": [
        {
          "output_type": "stream",
          "text": [
            "1 2 3 4\n"
          ],
          "name": "stdout"
        }
      ]
    },
    {
      "cell_type": "markdown",
      "metadata": {
        "id": "d9s0lW6EVAZK",
        "colab_type": "text"
      },
      "source": [
        "Remember that the `*` operator works on any iterable object. It can also be used to unpack a `string`:"
      ]
    },
    {
      "cell_type": "code",
      "metadata": {
        "id": "UsS1C6w2VAZK",
        "colab_type": "code",
        "outputId": "0faaa328-d069-46be-a603-b42313359cbd",
        "colab": {}
      },
      "source": [
        "a = \"RealPython\"\n",
        "print(*a)"
      ],
      "execution_count": 0,
      "outputs": [
        {
          "output_type": "stream",
          "text": [
            "R e a l P y t h o n\n"
          ],
          "name": "stdout"
        }
      ]
    },
    {
      "cell_type": "markdown",
      "metadata": {
        "id": "sVcag52XVAZR",
        "colab_type": "text"
      },
      "source": [
        "And assign it to elements of a list:"
      ]
    },
    {
      "cell_type": "code",
      "metadata": {
        "id": "earQKk93VAZS",
        "colab_type": "code",
        "outputId": "751a69a5-dd9d-4190-d116-b4b15c7a5b30",
        "colab": {}
      },
      "source": [
        "a = [*\"RealPython\"]\n",
        "print(a)"
      ],
      "execution_count": 0,
      "outputs": [
        {
          "output_type": "stream",
          "text": [
            "['R', 'e', 'a', 'l', 'P', 'y', 't', 'h', 'o', 'n']\n"
          ],
          "name": "stdout"
        }
      ]
    },
    {
      "cell_type": "markdown",
      "metadata": {
        "id": "ZNQpukt2VAZW",
        "colab_type": "text"
      },
      "source": [
        "There are other convenient uses of the unpacking operator. For example, say you need to split a list into three different parts. The output should show the first value, the last value, and all the values in between. With the unpacking operator, you can do this in just one line of code (example from [realpython.com](https://realpython.com/python-kwargs-and-args/):"
      ]
    },
    {
      "cell_type": "code",
      "metadata": {
        "id": "10gDEvXHVAZX",
        "colab_type": "code",
        "outputId": "c45b9c12-968a-44af-d85c-236da0a7eb39",
        "colab": {}
      },
      "source": [
        "lst = [1, 2, 3, 4, 5, 6]\n",
        "\n",
        "a, *b, c = lst\n",
        "\n",
        "print(a)\n",
        "print(b)\n",
        "print(c)"
      ],
      "execution_count": 0,
      "outputs": [
        {
          "output_type": "stream",
          "text": [
            "1\n",
            "[2, 3, 4, 5]\n",
            "6\n"
          ],
          "name": "stdout"
        }
      ]
    },
    {
      "cell_type": "markdown",
      "metadata": {
        "id": "Z89pYNuKVAZe",
        "colab_type": "text"
      },
      "source": [
        "This could be very useful if you need to merge two lists, for instance:"
      ]
    },
    {
      "cell_type": "code",
      "metadata": {
        "id": "FMxBMGozVAZf",
        "colab_type": "code",
        "outputId": "979ba406-5b60-4903-8b69-109ad5fcb3a5",
        "colab": {}
      },
      "source": [
        "lst1 = [1, 2, 3]\n",
        "lst2 = [4, 5, 6]\n",
        "merged_list = [*lst1, *lst2]\n",
        "\n",
        "print(merged_list)"
      ],
      "execution_count": 0,
      "outputs": [
        {
          "output_type": "stream",
          "text": [
            "[1, 2, 3, 4, 5, 6]\n"
          ],
          "name": "stdout"
        }
      ]
    },
    {
      "cell_type": "markdown",
      "metadata": {
        "id": "Io-R7CMrVAZo",
        "colab_type": "text"
      },
      "source": [
        "You can even merge two different dictionaries by using the unpacking operator for dictionaries `**`:"
      ]
    },
    {
      "cell_type": "code",
      "metadata": {
        "id": "7EZ6eQwCVAZq",
        "colab_type": "code",
        "outputId": "be7e96da-6a6b-4c82-c62a-edfc8bd24da6",
        "colab": {}
      },
      "source": [
        "dct1 = {\"A\": 1, \"B\": 2}\n",
        "dct2 = {\"C\": 3, \"D\": 4}\n",
        "merged_dict = {**dct1, **dct2}\n",
        "\n",
        "print(merged_dict)"
      ],
      "execution_count": 0,
      "outputs": [
        {
          "output_type": "stream",
          "text": [
            "{'A': 1, 'B': 2, 'C': 3, 'D': 4}\n"
          ],
          "name": "stdout"
        }
      ]
    },
    {
      "cell_type": "markdown",
      "metadata": {
        "id": "bXDhGauyVAZx",
        "colab_type": "text"
      },
      "source": [
        "## Lambda Functions"
      ]
    },
    {
      "cell_type": "markdown",
      "metadata": {
        "id": "nMslDbaiVAZz",
        "colab_type": "text"
      },
      "source": [
        "A `lambda` function is a small nameless or anonymous function.\n",
        "\n",
        "Note: Lambda expressions in Python and other programming languages have their roots in [lambda calculus](https://en.wikipedia.org/wiki/Lambda_calculus), a model of computation invented by [Alonzo Church](https://en.wikipedia.org/wiki/Alonzo_Church). "
      ]
    },
    {
      "cell_type": "code",
      "metadata": {
        "id": "oPqqyuRqVAZ0",
        "colab_type": "code",
        "outputId": "0b0e534e-8a66-4a53-d635-451e534fe9cd",
        "colab": {}
      },
      "source": [
        "(lambda var: var + 1)(2)"
      ],
      "execution_count": 0,
      "outputs": [
        {
          "output_type": "execute_result",
          "data": {
            "text/plain": [
              "3"
            ]
          },
          "metadata": {
            "tags": []
          },
          "execution_count": 74
        }
      ]
    },
    {
      "cell_type": "markdown",
      "metadata": {
        "id": "9C-rXd3KVAZ4",
        "colab_type": "text"
      },
      "source": [
        "Because a `lambda` function is an expression, it can be named despite nameless nature, for instance as `x` below:"
      ]
    },
    {
      "cell_type": "code",
      "metadata": {
        "id": "HOzQQCgxVAZ5",
        "colab_type": "code",
        "outputId": "400e322d-8757-4fb0-c769-f0eb15a31151",
        "colab": {}
      },
      "source": [
        "x = lambda var : var + 1\n",
        "print(x(1))"
      ],
      "execution_count": 0,
      "outputs": [
        {
          "output_type": "stream",
          "text": [
            "2\n"
          ],
          "name": "stdout"
        }
      ]
    },
    {
      "cell_type": "markdown",
      "metadata": {
        "id": "wkAY08A5VAZ9",
        "colab_type": "text"
      },
      "source": [
        "A `lambda` function can take any number of arguments, but can only have one expression:"
      ]
    },
    {
      "cell_type": "code",
      "metadata": {
        "id": "XnrFDTZxVAZ_",
        "colab_type": "code",
        "outputId": "cb8beea4-eb97-48d8-fd7b-e6a9f13fa190",
        "colab": {}
      },
      "source": [
        "x = lambda var1, var2 : var1 + var2 + 1\n",
        "print(x(1,2))"
      ],
      "execution_count": 0,
      "outputs": [
        {
          "output_type": "stream",
          "text": [
            "4\n"
          ],
          "name": "stdout"
        }
      ]
    },
    {
      "cell_type": "markdown",
      "metadata": {
        "id": "RvZeeBxaVAaE",
        "colab_type": "text"
      },
      "source": [
        "A `lambda` function usually is used as an argument to a higher-order function (a function that takes in other functions as arguments). `Lambda` functions are also used along with built-in functions like `filter()` , `map()` `reduce()` etc.\n",
        " \n",
        "Example use with `filter()`:"
      ]
    },
    {
      "cell_type": "code",
      "metadata": {
        "id": "z0iIfdeiVAaG",
        "colab_type": "code",
        "outputId": "f397eb3d-3841-47a8-85d0-06c2c0c0058c",
        "colab": {}
      },
      "source": [
        "lst = [1, 2, 3, 4, 5, 6, 7, 8, 9]\n",
        "lst2 = list(filter(lambda x: (x%3 == 0) , lst))\n",
        "print(lst2)"
      ],
      "execution_count": 0,
      "outputs": [
        {
          "output_type": "stream",
          "text": [
            "[3, 6, 9]\n"
          ],
          "name": "stdout"
        }
      ]
    },
    {
      "cell_type": "markdown",
      "metadata": {
        "id": "CKSyrCpyVAaM",
        "colab_type": "text"
      },
      "source": [
        "Note, that `list` is used over return of `filter`, otherwise `filter` returns address of an object, but not resulting list itself. Check it out:"
      ]
    },
    {
      "cell_type": "code",
      "metadata": {
        "id": "76gC2hDxVAaN",
        "colab_type": "code",
        "outputId": "b7278771-e6ca-4ff6-eb6f-12a67eb1ad74",
        "colab": {}
      },
      "source": [
        "lst = [1, 2, 3, 4, 5, 6, 7, 8, 9]\n",
        "lst2 = filter(lambda x: (x%3 == 0) , lst)\n",
        "print(lst2)"
      ],
      "execution_count": 0,
      "outputs": [
        {
          "output_type": "stream",
          "text": [
            "<filter object at 0x000001ED0DBA2048>\n"
          ],
          "name": "stdout"
        }
      ]
    },
    {
      "cell_type": "markdown",
      "metadata": {
        "id": "0wj3X1gJVAaS",
        "colab_type": "text"
      },
      "source": [
        "Example use with `map()`:"
      ]
    },
    {
      "cell_type": "code",
      "metadata": {
        "id": "AjjRtjATVAah",
        "colab_type": "code",
        "outputId": "08429194-4237-4ea2-fdec-bdda1bca1db8",
        "colab": {}
      },
      "source": [
        "lst = [1, 2, 3, 4, 5, 6, 7, 8, 9]\n",
        "lst2 = list(map(lambda x: (x%3 == 0) , lst))\n",
        "print(lst2)"
      ],
      "execution_count": 0,
      "outputs": [
        {
          "output_type": "stream",
          "text": [
            "[False, False, True, False, False, True, False, False, True]\n"
          ],
          "name": "stdout"
        }
      ]
    },
    {
      "cell_type": "markdown",
      "metadata": {
        "id": "eSiKW6eMVAal",
        "colab_type": "text"
      },
      "source": [
        "Example use with `reduce()`:"
      ]
    },
    {
      "cell_type": "code",
      "metadata": {
        "id": "I6D_NAzZVAam",
        "colab_type": "code",
        "outputId": "f6cb6ca8-a01b-4c38-dd91-5aa551ded5b7",
        "colab": {}
      },
      "source": [
        "from functools import reduce\n",
        "lst = [1, 2, 3, 4, 5, 6, 7, 8, 9]\n",
        "lst2 = reduce(lambda x, y: x+y , lst)\n",
        "print(lst2)"
      ],
      "execution_count": 0,
      "outputs": [
        {
          "output_type": "stream",
          "text": [
            "45\n"
          ],
          "name": "stdout"
        }
      ]
    },
    {
      "cell_type": "markdown",
      "metadata": {
        "id": "IwjwSkIWVAaq",
        "colab_type": "text"
      },
      "source": [
        "## Error Handling: `raise` and `except`"
      ]
    },
    {
      "cell_type": "markdown",
      "metadata": {
        "id": "N-HZz4blVAaq",
        "colab_type": "text"
      },
      "source": [
        "When we write a function it is good to catch specific problems and print out specific error messages."
      ]
    },
    {
      "cell_type": "code",
      "metadata": {
        "id": "XtNQyZlsVAax",
        "colab_type": "code",
        "colab": {}
      },
      "source": [
        "def sqrt(x):\n",
        "    \"\"\"Returns the square root of an input number\"\"\"\n",
        "    try:\n",
        "        return x ** 0.5\n",
        "    except:\n",
        "        print(\"input has to be a number\")"
      ],
      "execution_count": 0,
      "outputs": []
    },
    {
      "cell_type": "code",
      "metadata": {
        "id": "b99-bClGVAay",
        "colab_type": "code",
        "outputId": "877548d6-05b9-4005-a918-34a0609ba004",
        "colab": {}
      },
      "source": [
        "sqrt(4)"
      ],
      "execution_count": 0,
      "outputs": [
        {
          "output_type": "execute_result",
          "data": {
            "text/plain": [
              "2.0"
            ]
          },
          "metadata": {
            "tags": []
          },
          "execution_count": 88
        }
      ]
    },
    {
      "cell_type": "code",
      "metadata": {
        "id": "ANQKl1BBVAa1",
        "colab_type": "code",
        "outputId": "8ab05064-c821-4d97-8a4f-ed8e50e3ddc0",
        "colab": {}
      },
      "source": [
        "sqrt(\"four\")"
      ],
      "execution_count": 0,
      "outputs": [
        {
          "output_type": "stream",
          "text": [
            "input has to be a number\n"
          ],
          "name": "stdout"
        }
      ]
    },
    {
      "cell_type": "markdown",
      "metadata": {
        "id": "bGkrVPpDVAa3",
        "colab_type": "text"
      },
      "source": [
        "We can specify which type of error will `exept` catch:"
      ]
    },
    {
      "cell_type": "code",
      "metadata": {
        "id": "9JBF_h-7VAa5",
        "colab_type": "code",
        "colab": {}
      },
      "source": [
        "def sqrt(x):\n",
        "    \"\"\"Returns the square root of an input number\"\"\"\n",
        "    try:\n",
        "        return x ** 0.5\n",
        "    except TypeError:\n",
        "        print(\"input has to be a number\")"
      ],
      "execution_count": 0,
      "outputs": []
    },
    {
      "cell_type": "code",
      "metadata": {
        "id": "jUSAKgpAVAa7",
        "colab_type": "code",
        "outputId": "c0fdafee-b8f2-4e48-9daf-776b0ea53219",
        "colab": {}
      },
      "source": [
        "sqrt(\"four\")"
      ],
      "execution_count": 0,
      "outputs": [
        {
          "output_type": "stream",
          "text": [
            "input has to be a number\n"
          ],
          "name": "stdout"
        }
      ]
    },
    {
      "cell_type": "markdown",
      "metadata": {
        "id": "mubksCZcVAa9",
        "colab_type": "text"
      },
      "source": [
        "There are multiple types of [built-in exceptions](https://docs.python.org/3/library/exceptions.html)."
      ]
    },
    {
      "cell_type": "code",
      "metadata": {
        "id": "psrtCjsIVAa-",
        "colab_type": "code",
        "colab": {}
      },
      "source": [
        "def sqrt(x):\n",
        "    try:\n",
        "        if x<0:\n",
        "            raise ValueError(\"input number has to be non-negative\")\n",
        "        return x ** 0.5\n",
        "    except TypeError:\n",
        "        print(\"input has to be a number\")"
      ],
      "execution_count": 0,
      "outputs": []
    },
    {
      "cell_type": "code",
      "metadata": {
        "id": "PHVX_ZeGVAa_",
        "colab_type": "code",
        "outputId": "a38510d7-1440-41f3-8fb6-bf0de8d12407",
        "colab": {}
      },
      "source": [
        "sqrt(-4)"
      ],
      "execution_count": 0,
      "outputs": [
        {
          "output_type": "error",
          "ename": "ValueError",
          "evalue": "input number has to be non-negative",
          "traceback": [
            "\u001b[1;31m---------------------------------------------------------------------------\u001b[0m",
            "\u001b[1;31mValueError\u001b[0m                                Traceback (most recent call last)",
            "\u001b[1;32m<ipython-input-96-ee0bfbfc0490>\u001b[0m in \u001b[0;36m<module>\u001b[1;34m\u001b[0m\n\u001b[1;32m----> 1\u001b[1;33m \u001b[0msqrt\u001b[0m\u001b[1;33m(\u001b[0m\u001b[1;33m-\u001b[0m\u001b[1;36m4\u001b[0m\u001b[1;33m)\u001b[0m\u001b[1;33m\u001b[0m\u001b[1;33m\u001b[0m\u001b[0m\n\u001b[0m",
            "\u001b[1;32m<ipython-input-95-261ebe3f0867>\u001b[0m in \u001b[0;36msqrt\u001b[1;34m(x)\u001b[0m\n\u001b[0;32m      2\u001b[0m     \u001b[1;32mtry\u001b[0m\u001b[1;33m:\u001b[0m\u001b[1;33m\u001b[0m\u001b[1;33m\u001b[0m\u001b[0m\n\u001b[0;32m      3\u001b[0m         \u001b[1;32mif\u001b[0m \u001b[0mx\u001b[0m\u001b[1;33m<\u001b[0m\u001b[1;36m0\u001b[0m\u001b[1;33m:\u001b[0m\u001b[1;33m\u001b[0m\u001b[1;33m\u001b[0m\u001b[0m\n\u001b[1;32m----> 4\u001b[1;33m             \u001b[1;32mraise\u001b[0m \u001b[0mValueError\u001b[0m\u001b[1;33m(\u001b[0m\u001b[1;34m\"input number has to be non-negative\"\u001b[0m\u001b[1;33m)\u001b[0m\u001b[1;33m\u001b[0m\u001b[1;33m\u001b[0m\u001b[0m\n\u001b[0m\u001b[0;32m      5\u001b[0m         \u001b[1;32mreturn\u001b[0m \u001b[0mx\u001b[0m \u001b[1;33m**\u001b[0m \u001b[1;36m0.5\u001b[0m\u001b[1;33m\u001b[0m\u001b[1;33m\u001b[0m\u001b[0m\n\u001b[0;32m      6\u001b[0m     \u001b[1;32mexcept\u001b[0m \u001b[0mTypeError\u001b[0m\u001b[1;33m:\u001b[0m\u001b[1;33m\u001b[0m\u001b[1;33m\u001b[0m\u001b[0m\n",
            "\u001b[1;31mValueError\u001b[0m: input number has to be non-negative"
          ]
        }
      ]
    },
    {
      "cell_type": "code",
      "metadata": {
        "id": "TYn2Q-X0VAbB",
        "colab_type": "code",
        "outputId": "55105ff2-a356-4c35-9694-d033251c1894",
        "colab": {}
      },
      "source": [
        "sqrt(4)"
      ],
      "execution_count": 0,
      "outputs": [
        {
          "output_type": "execute_result",
          "data": {
            "text/plain": [
              "2.0"
            ]
          },
          "metadata": {
            "tags": []
          },
          "execution_count": 97
        }
      ]
    },
    {
      "cell_type": "code",
      "metadata": {
        "id": "cf-uxgHeVAbD",
        "colab_type": "code",
        "outputId": "20086d59-946d-4993-f8ab-e5a2cfb40adf",
        "colab": {}
      },
      "source": [
        "sqrt(\"four\")"
      ],
      "execution_count": 0,
      "outputs": [
        {
          "output_type": "stream",
          "text": [
            "input has to be a number\n"
          ],
          "name": "stdout"
        }
      ]
    },
    {
      "cell_type": "code",
      "metadata": {
        "id": "6lq8EgGxVVAn",
        "colab_type": "code",
        "colab": {}
      },
      "source": [
        ""
      ],
      "execution_count": 0,
      "outputs": []
    }
  ]
}