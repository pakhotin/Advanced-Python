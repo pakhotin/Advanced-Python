{
 "cells": [
  {
   "cell_type": "markdown",
   "metadata": {},
   "source": [
    "# Pandas"
   ]
  },
  {
   "cell_type": "code",
   "execution_count": 1,
   "metadata": {},
   "outputs": [],
   "source": [
    "import pandas as pd"
   ]
  },
  {
   "cell_type": "markdown",
   "metadata": {},
   "source": [
    "## Read Data from Files"
   ]
  },
  {
   "cell_type": "markdown",
   "metadata": {},
   "source": [
    "### Read from CSV in Chunks"
   ]
  },
  {
   "cell_type": "markdown",
   "metadata": {},
   "source": [
    "If file is too big, then we can read it in chunks. For example, function `read_csv` has parameter `chunksize` which allows to return **iterator** object. This allows efficiently access data from the CSV file, chunk by chunk using function `next()` or method `__next__()`. Each chunk is a Pandas data frame."
   ]
  },
  {
   "cell_type": "code",
   "execution_count": 19,
   "metadata": {},
   "outputs": [
    {
     "name": "stdout",
     "output_type": "stream",
     "text": [
      "Iterator:  <pandas.io.parsers.TextFileReader object at 0x0000022D603EA3C8>\n",
      "Type of object the iterator returns:  <class 'pandas.core.frame.DataFrame'>\n",
      "    x   y   z\n",
      "0   1   2   3\n",
      "1   4   5   6\n",
      "2   7   8   9\n",
      "3  10  11  12\n",
      "4  13  14  15\n",
      "    x   y   z\n",
      "5  16  17  18\n",
      "6  19  20  21\n",
      "7  22  23  24\n",
      "8  25  26  27\n",
      "9  28  29  30\n"
     ]
    }
   ],
   "source": [
    "it_chunk = pd.read_csv('../data/test/test.csv', chunksize = 5)\n",
    "print(\"Iterator: \",it_chunk)\n",
    "\n",
    "first_chunk = next(it_chunk)\n",
    "print(\"Type of object the iterator returns: \",type(first_chunk))\n",
    "print(first_chunk)\n",
    "# or we can use method `__next__()` to access next chunk\n",
    "print(it_chunk.__next__())"
   ]
  },
  {
   "cell_type": "markdown",
   "metadata": {},
   "source": [
    "Note, content of iterator could be accessed with unpacking operator asterisk `*`. Note, it could overfill memory if input file is very big!"
   ]
  },
  {
   "cell_type": "code",
   "execution_count": 20,
   "metadata": {},
   "outputs": [
    {
     "name": "stdout",
     "output_type": "stream",
     "text": [
      "<pandas.io.parsers.TextFileReader object at 0x0000022D60A07EC8>\n",
      "    x   y   z\n",
      "0   1   2   3\n",
      "1   4   5   6\n",
      "2   7   8   9\n",
      "3  10  11  12\n",
      "4  13  14  15     x   y   z\n",
      "5  16  17  18\n",
      "6  19  20  21\n",
      "7  22  23  24\n",
      "8  25  26  27\n",
      "9  28  29  30\n"
     ]
    }
   ],
   "source": [
    "it_chunk = pd.read_csv('../data/test/test.csv', chunksize = 5)\n",
    "print(it_chunk)\n",
    "print(*it_chunk)"
   ]
  },
  {
   "cell_type": "markdown",
   "metadata": {},
   "source": [
    "Reading data in chunk could be very efficient if we want to perform an aggregation operation over very big input file - **because we loop through iterator**. We can save result for each chunk and then combine results together. For example, let's sum all values in column `x`:"
   ]
  },
  {
   "cell_type": "code",
   "execution_count": 25,
   "metadata": {},
   "outputs": [
    {
     "name": "stdout",
     "output_type": "stream",
     "text": [
      "Sum for each chunk:  [35, 110]\n",
      "Total sum:  145\n"
     ]
    }
   ],
   "source": [
    "result = []\n",
    "\n",
    "for it_chunk in pd.read_csv('../data/test/test.csv', chunksize = 5):\n",
    "    result.append(sum(it_chunk['x']))\n",
    "\n",
    "print(\"Sum for each chunk: \", result)\n",
    "print(\"Total sum: \", sum(result))"
   ]
  },
  {
   "cell_type": "code",
   "execution_count": null,
   "metadata": {},
   "outputs": [],
   "source": []
  }
 ],
 "metadata": {
  "kernelspec": {
   "display_name": "Python 3",
   "language": "python",
   "name": "python3"
  },
  "language_info": {
   "codemirror_mode": {
    "name": "ipython",
    "version": 3
   },
   "file_extension": ".py",
   "mimetype": "text/x-python",
   "name": "python",
   "nbconvert_exporter": "python",
   "pygments_lexer": "ipython3",
   "version": "3.7.4"
  }
 },
 "nbformat": 4,
 "nbformat_minor": 4
}
