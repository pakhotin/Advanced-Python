{
 "cells": [
  {
   "cell_type": "markdown",
   "metadata": {},
   "source": [
    "# Generators"
   ]
  },
  {
   "cell_type": "markdown",
   "metadata": {},
   "source": [
    "## Resources:\n",
    " * [Python Generators at Programiz.com](https://www.programiz.com/python-programming/generator)"
   ]
  },
  {
   "cell_type": "markdown",
   "metadata": {},
   "source": [
    "## What is Generator?"
   ]
  },
  {
   "cell_type": "markdown",
   "metadata": {},
   "source": [
    "**Generator** is a function that **returns an iterator** which we can iterate over (one value at a time).\n",
    "\n",
    "Tecnically speaking, to create a generator function we have to define a regular function with **at least one `yield`** statement which is similar to `return` statement. The difference is the following:\n",
    " * `return` terminates the function entirely\n",
    " * `yield` pauses the function saving all its states and if called again continues from these states\n",
    " \n",
    "Note, a generator function may contain multiple `yield` and `return` statements.\n",
    "\n",
    "Example of a simple generator function:"
   ]
  },
  {
   "cell_type": "code",
   "execution_count": 42,
   "metadata": {},
   "outputs": [
    {
     "name": "stdout",
     "output_type": "stream",
     "text": [
      "<generator object gnr3 at 0x0000028431870E48>\n",
      "1st yield\n",
      "1\n",
      "2nd yield\n",
      "2\n",
      "3rd yield\n",
      "3\n"
     ]
    },
    {
     "ename": "StopIteration",
     "evalue": "",
     "output_type": "error",
     "traceback": [
      "\u001b[1;31m---------------------------------------------------------------------------\u001b[0m",
      "\u001b[1;31mStopIteration\u001b[0m                             Traceback (most recent call last)",
      "\u001b[1;32m<ipython-input-42-77dce29ee0bf>\u001b[0m in \u001b[0;36m<module>\u001b[1;34m\u001b[0m\n\u001b[0;32m     20\u001b[0m \u001b[1;31m# or\u001b[0m\u001b[1;33m\u001b[0m\u001b[1;33m\u001b[0m\u001b[1;33m\u001b[0m\u001b[0m\n\u001b[0;32m     21\u001b[0m \u001b[0mprint\u001b[0m\u001b[1;33m(\u001b[0m\u001b[0mg\u001b[0m\u001b[1;33m.\u001b[0m\u001b[0m__next__\u001b[0m\u001b[1;33m(\u001b[0m\u001b[1;33m)\u001b[0m\u001b[1;33m)\u001b[0m   \u001b[1;31m# <-- get 3rd item of the iterator\u001b[0m\u001b[1;33m\u001b[0m\u001b[1;33m\u001b[0m\u001b[0m\n\u001b[1;32m---> 22\u001b[1;33m \u001b[0mprint\u001b[0m\u001b[1;33m(\u001b[0m\u001b[0mg\u001b[0m\u001b[1;33m.\u001b[0m\u001b[0m__next__\u001b[0m\u001b[1;33m(\u001b[0m\u001b[1;33m)\u001b[0m\u001b[1;33m)\u001b[0m   \u001b[1;31m# <-- no items left, will raise error `StopIteration`\u001b[0m\u001b[1;33m\u001b[0m\u001b[1;33m\u001b[0m\u001b[0m\n\u001b[0m",
      "\u001b[1;31mStopIteration\u001b[0m: "
     ]
    }
   ],
   "source": [
    "def gnr3():\n",
    "    '''A simple generator function\n",
    "    with 3 `yield` statements'''\n",
    "    n = 1\n",
    "    print(\"1st yield\")\n",
    "    yield n # <-- as soon as we use `yield` in definition - function becomes generator\n",
    "    \n",
    "    n += 1\n",
    "    print(\"2nd yield\")\n",
    "    yield n\n",
    "    \n",
    "    n += 1\n",
    "    print(\"3rd yield\")\n",
    "    yield n\n",
    "\n",
    "g = gnr3() # <-- function is called, but no execution started\n",
    "print(g) # <-- function returns iterator - object of 'generator' type\n",
    "print(next(g)) # <-- get 1st item of the iterator\n",
    "print(next(g)) # <-- get 2nd item of the iterator\n",
    "# or\n",
    "print(g.__next__())   # <-- get 3rd item of the iterator\n",
    "print(g.__next__())   # <-- no items left, will raise error `StopIteration`"
   ]
  },
  {
   "cell_type": "markdown",
   "metadata": {},
   "source": [
    "Note, in the example above value of variable `n` is remembered between each call."
   ]
  },
  {
   "cell_type": "markdown",
   "metadata": {},
   "source": [
    "Properties of iterator are applied to output of generator function since it returns iterator:\n",
    " * generator output can be iterated only once; to restart the process we need to reinitialize generator object\n",
    " * generator output can be used in `for` loop directly as in the following example"
   ]
  },
  {
   "cell_type": "code",
   "execution_count": 22,
   "metadata": {},
   "outputs": [
    {
     "name": "stdout",
     "output_type": "stream",
     "text": [
      "1st yield\n",
      "1\n",
      "2nd yield\n",
      "2\n",
      "3rd yield\n",
      "3\n"
     ]
    }
   ],
   "source": [
    "for i in gnr3():\n",
    "    print(i)"
   ]
  },
  {
   "cell_type": "markdown",
   "metadata": {},
   "source": [
    "## Generator Expressions"
   ]
  },
  {
   "cell_type": "markdown",
   "metadata": {},
   "source": [
    "**Generator expression** creates an **anonymous generator**, very similar to as `lambda` function cretaes anonymous function.\n",
    "\n",
    "Syntax of the generator expression is very similar to list comprehension, as in the follows:\n",
    "```\n",
    "(expression for item in iterable)\n",
    "```\n",
    "notice **round** brackets.\n",
    "\n",
    "Note, the major difference between a list comprehension and a generator expression is that while list comprehension produces the entire list, **generator expression produces one item at a time**."
   ]
  },
  {
   "cell_type": "code",
   "execution_count": 46,
   "metadata": {},
   "outputs": [
    {
     "name": "stdout",
     "output_type": "stream",
     "text": [
      "<generator object <genexpr> at 0x0000028431870F48>\n",
      "2\n",
      "3\n",
      "4\n",
      "5\n",
      "6 7\n"
     ]
    }
   ],
   "source": [
    "lst = [1,2,3,4,5,6]\n",
    "g = (i+1 for i in lst) # <-- use generator expression\n",
    "print (g)\n",
    "print(next(g)) # <-- get 1st item of the iterator\n",
    "print(next(g)) # <-- get 2nd item of the iterator\n",
    "# or\n",
    "print(g.__next__()) # <-- get 3rd item of the iterator\n",
    "print(g.__next__()) # <-- get 4th item of the iterator\n",
    "print(*g) # <-- get all items left"
   ]
  },
  {
   "cell_type": "markdown",
   "metadata": {},
   "source": [
    "We can pass generator expression to a function list to create a list:"
   ]
  },
  {
   "cell_type": "code",
   "execution_count": 47,
   "metadata": {},
   "outputs": [
    {
     "name": "stdout",
     "output_type": "stream",
     "text": [
      "[2, 3, 4, 5, 6, 7]\n"
     ]
    }
   ],
   "source": [
    "lst = [1,2,3,4,5,6]\n",
    "g = (i+1 for i in lst) # <-- use generator expression\n",
    "lst_new = list(g)\n",
    "print(lst_new)"
   ]
  },
  {
   "cell_type": "markdown",
   "metadata": {},
   "source": [
    "Exactly as in list comprehension the generator expression could have:\n",
    " * **multiple** `for...in` statements\n",
    " * conditions applied to iterable item\n",
    " * condition in the form `if...else` could be applied as a part of `expression`\n",
    " * generator expression could be used **inside** another generator expression\n",
    " * generator expression works for **any iterable object**"
   ]
  },
  {
   "cell_type": "markdown",
   "metadata": {},
   "source": [
    "## Why We Need Generators?"
   ]
  },
  {
   "cell_type": "markdown",
   "metadata": {},
   "source": [
    "Generators are **easy to implement**: \n",
    " * methods like `__iter__()` and `__next__()` are implemented automatically\n",
    " * when the function terminates, `StopIteration` is raised automatically on further calls\n",
    "\n",
    "Let's compare definitions of\n",
    " * iterable class which gives us next power of 2 in each iteration\n",
    " * generator function with the same properties\n",
    " \n",
    "The example is taken from [programiz.com](https://www.programiz.com/python-programming/generator):"
   ]
  },
  {
   "cell_type": "code",
   "execution_count": 23,
   "metadata": {},
   "outputs": [
    {
     "name": "stdout",
     "output_type": "stream",
     "text": [
      "1\n",
      "2\n",
      "4\n",
      "8\n"
     ]
    }
   ],
   "source": [
    "class PowTwo:\n",
    "    \"\"\"Class to implement an iterator\n",
    "    of powers of two\"\"\"\n",
    "\n",
    "    def __init__(self, max = 0):\n",
    "        self.max = max\n",
    "\n",
    "    def __iter__(self):\n",
    "        self.n = 0\n",
    "        return self\n",
    "\n",
    "    def __next__(self):\n",
    "        if self.n <= self.max:\n",
    "            result = 2 ** self.n\n",
    "            self.n += 1\n",
    "            return result\n",
    "        else:\n",
    "            raise StopIteration\n",
    "\n",
    "x = PowTwo(3) # <-- returns iterable object\n",
    "it = iter(x) # <-- creates iterator\n",
    "\n",
    "print(next(it))\n",
    "print(next(it))\n",
    "# or\n",
    "print(it.__next__())\n",
    "print(it.__next__())"
   ]
  },
  {
   "cell_type": "code",
   "execution_count": 27,
   "metadata": {},
   "outputs": [
    {
     "name": "stdout",
     "output_type": "stream",
     "text": [
      "1\n",
      "2\n",
      "4\n",
      "8\n"
     ]
    }
   ],
   "source": [
    "def PowTwoGnr(max = 0):\n",
    "    \"\"\"Generator function to implement an iterator\n",
    "    of powers of two\"\"\"\n",
    "    n = 0\n",
    "    while n <= max:\n",
    "        yield 2 ** n\n",
    "        n += 1\n",
    "\n",
    "it = PowTwoGnr(3) # <-- explicitly returns iterator \n",
    "\n",
    "print(next(it))\n",
    "print(next(it))\n",
    "# or\n",
    "print(it.__next__())\n",
    "print(it.__next__())"
   ]
  },
  {
   "cell_type": "markdown",
   "metadata": {},
   "source": [
    "Note, generator function gives the same result but is much simpler to implement and most boiller plate code is not explicit as in iterable class definition."
   ]
  },
  {
   "cell_type": "markdown",
   "metadata": {},
   "source": [
    "Generators are **memory efficient**:\n",
    " * normal function to return a sequence will create the entire sequence in memory before returning the result\n",
    " * generator function produces one item at a time\n",
    "\n",
    "Since generator produces only one item at a time, it can represent **infinite stream** of data which otherwise cannot be stored in memory. For instance, infinite stream of odd numbers:"
   ]
  },
  {
   "cell_type": "code",
   "execution_count": 30,
   "metadata": {},
   "outputs": [
    {
     "name": "stdout",
     "output_type": "stream",
     "text": [
      "1\n",
      "3\n",
      "5\n",
      "7\n"
     ]
    }
   ],
   "source": [
    "def AllOdd():\n",
    "    n = 1\n",
    "    while True:\n",
    "        yield n\n",
    "        n += 2\n",
    "\n",
    "odd = AllOdd()\n",
    "print(next(odd))\n",
    "print(next(odd))\n",
    "# or\n",
    "print(odd.__next__())\n",
    "print(odd.__next__())"
   ]
  },
  {
   "cell_type": "markdown",
   "metadata": {},
   "source": [
    "## Pipeline Generator"
   ]
  },
  {
   "cell_type": "markdown",
   "metadata": {},
   "source": [
    "Generators are lazily evaluated producing items only when asked for therefore they can be used to pipeline a series of operations as in the following example:"
   ]
  },
  {
   "cell_type": "code",
   "execution_count": 38,
   "metadata": {},
   "outputs": [
    {
     "name": "stdout",
     "output_type": "stream",
     "text": [
      "o o u o o o o\n"
     ]
    }
   ],
   "source": [
    "with open('../data/test/test_14L.txt') as file:\n",
    "    letter_2 = (line[1] for line in file) # <-- creates iterator over letters in 2nd place in each line\n",
    "    vowel = (l for l in letter_2 if l in ['a','o','i','u','e']) # <-- creates iterator ove vowel letters only\n",
    "    print(*vowel) # <-- evaluates"
   ]
  },
  {
   "cell_type": "markdown",
   "metadata": {},
   "source": [
    "Note, instaed of a small file we can run this loop over entire corpus of English literature and it will take very little memory since we never read it all but access line by line and letter by letter."
   ]
  },
  {
   "cell_type": "code",
   "execution_count": null,
   "metadata": {},
   "outputs": [],
   "source": []
  }
 ],
 "metadata": {
  "kernelspec": {
   "display_name": "Python 3",
   "language": "python",
   "name": "python3"
  },
  "language_info": {
   "codemirror_mode": {
    "name": "ipython",
    "version": 3
   },
   "file_extension": ".py",
   "mimetype": "text/x-python",
   "name": "python",
   "nbconvert_exporter": "python",
   "pygments_lexer": "ipython3",
   "version": "3.7.4"
  }
 },
 "nbformat": 4,
 "nbformat_minor": 4
}
