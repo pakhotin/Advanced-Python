{
 "cells": [
  {
   "cell_type": "markdown",
   "metadata": {
    "colab_type": "text",
    "id": "view-in-github"
   },
   "source": [
    "<a href=\"https://colab.research.google.com/github/pakhotin/Advanced-Python/blob/master/notebooks/Functions.ipynb\" target=\"_parent\"><img src=\"https://colab.research.google.com/assets/colab-badge.svg\" alt=\"Open In Colab\"/></a>"
   ]
  },
  {
   "cell_type": "markdown",
   "metadata": {
    "colab_type": "text",
    "id": "JuNFpjL8VAVK"
   },
   "source": [
    "# Python Functions"
   ]
  },
  {
   "cell_type": "markdown",
   "metadata": {},
   "source": [
    "Resources:\n",
    " * [Python Lambda at w3schools.com](https://www.w3schools.com/python/python_lambda.asp)"
   ]
  },
  {
   "cell_type": "markdown",
   "metadata": {
    "colab_type": "text",
    "id": "L7DcDbfKVAVS"
   },
   "source": [
    "## Function Syntax"
   ]
  },
  {
   "cell_type": "code",
   "execution_count": null,
   "metadata": {
    "colab": {},
    "colab_type": "code",
    "id": "fG6wbF0-VAVW"
   },
   "outputs": [],
   "source": [
    "def function_name(parameters):\n",
    "    statements"
   ]
  },
  {
   "cell_type": "markdown",
   "metadata": {
    "colab_type": "text",
    "id": "oHIEv2F2VAVi"
   },
   "source": [
    "## Docstring"
   ]
  },
  {
   "cell_type": "markdown",
   "metadata": {
    "colab_type": "text",
    "id": "ludSnmq4VAVk"
   },
   "source": [
    "**Docstring** - the first string after the function header is used to explain in brief, what a function does. It might take multiple lines."
   ]
  },
  {
   "cell_type": "code",
   "execution_count": null,
   "metadata": {
    "colab": {},
    "colab_type": "code",
    "id": "aijoW0DaVAVo",
    "outputId": "9893f5c4-6499-4dda-b7b5-0377987a4533"
   },
   "outputs": [
    {
     "name": "stdout",
     "output_type": "stream",
     "text": [
      "Hello, World\n"
     ]
    }
   ],
   "source": [
    "def fun():\n",
    "    '''This function prints\n",
    "    Hello, World message'''\n",
    "    print(\"Hello, World\")\n",
    "\n",
    "fun()"
   ]
  },
  {
   "cell_type": "markdown",
   "metadata": {
    "colab_type": "text",
    "id": "VZQ5bpt5VAV0"
   },
   "source": [
    "This docstring is available to us as `__doc__` attribute of the function. Note, triple `\"\"\"` or `'''` are equivalent."
   ]
  },
  {
   "cell_type": "code",
   "execution_count": null,
   "metadata": {
    "colab": {},
    "colab_type": "code",
    "id": "R737ArxPVAV2",
    "outputId": "5313e4cb-213a-41a1-89d8-1190054e5609"
   },
   "outputs": [
    {
     "name": "stdout",
     "output_type": "stream",
     "text": [
      "This function prints\n",
      "    Hello, World message\n"
     ]
    }
   ],
   "source": [
    "def fun():\n",
    "    \"\"\"This function prints\n",
    "    Hello, World message\"\"\"\n",
    "    print(\"Hello, World\")\n",
    "\n",
    "print(fun.__doc__)"
   ]
  },
  {
   "cell_type": "markdown",
   "metadata": {
    "colab_type": "text",
    "id": "UGsxmykPVAWB"
   },
   "source": [
    "## Global, Local and Nonlocal variables"
   ]
  },
  {
   "cell_type": "markdown",
   "metadata": {
    "colab_type": "text",
    "id": "OGIQBfwqVAWE"
   },
   "source": [
    "Good description of Python variables can be found in the following:\n",
    " * [programiz.com](https://www.programiz.com/python-programming/global-local-nonlocal-variables)"
   ]
  },
  {
   "cell_type": "markdown",
   "metadata": {
    "colab_type": "text",
    "id": "DsNtI8CiVAWH"
   },
   "source": [
    "### Global Variable"
   ]
  },
  {
   "cell_type": "markdown",
   "metadata": {
    "colab_type": "text",
    "id": "cS1KhzRNVAWJ"
   },
   "source": [
    "**Global variable** - a variable declaired outside function. No keyword `global` or type of variable is required."
   ]
  },
  {
   "cell_type": "code",
   "execution_count": null,
   "metadata": {
    "colab": {},
    "colab_type": "code",
    "id": "IeS5e_HlVAWM",
    "outputId": "24d8123c-80a6-4f3e-b997-6edd2322ad4a"
   },
   "outputs": [
    {
     "name": "stdout",
     "output_type": "stream",
     "text": [
      "global variable inside function =  5\n",
      "global variable outside function =  5\n"
     ]
    }
   ],
   "source": [
    "# Declare global variable\n",
    "v = 5\n",
    "\n",
    "def fun():\n",
    "    '''Access and print global variable'''\n",
    "    print(\"global variable inside function = \", v)\n",
    "\n",
    "fun()\n",
    "print(\"global variable outside function = \", v)"
   ]
  },
  {
   "cell_type": "markdown",
   "metadata": {
    "colab_type": "text",
    "id": "HoF4FZeOVAWR"
   },
   "source": [
    "Global variable is accessible for **reading** from any function in the same script. But global variable can not be changed."
   ]
  },
  {
   "cell_type": "code",
   "execution_count": null,
   "metadata": {
    "colab": {},
    "colab_type": "code",
    "id": "hZouHweiVAWS",
    "outputId": "ffd0cf4e-a07c-4048-add9-3d81a505429c"
   },
   "outputs": [
    {
     "ename": "UnboundLocalError",
     "evalue": "local variable 'v' referenced before assignment",
     "output_type": "error",
     "traceback": [
      "\u001b[1;31m---------------------------------------------------------------------------\u001b[0m",
      "\u001b[1;31mUnboundLocalError\u001b[0m                         Traceback (most recent call last)",
      "\u001b[1;32m<ipython-input-6-facfebf304f6>\u001b[0m in \u001b[0;36m<module>\u001b[1;34m\u001b[0m\n\u001b[0;32m      7\u001b[0m     \u001b[0mprint\u001b[0m\u001b[1;33m(\u001b[0m\u001b[1;34m\"global variable inside function = \"\u001b[0m\u001b[1;33m,\u001b[0m \u001b[0mv\u001b[0m\u001b[1;33m)\u001b[0m\u001b[1;33m\u001b[0m\u001b[1;33m\u001b[0m\u001b[0m\n\u001b[0;32m      8\u001b[0m \u001b[1;33m\u001b[0m\u001b[0m\n\u001b[1;32m----> 9\u001b[1;33m \u001b[0mfun\u001b[0m\u001b[1;33m(\u001b[0m\u001b[1;33m)\u001b[0m\u001b[1;33m\u001b[0m\u001b[1;33m\u001b[0m\u001b[0m\n\u001b[0m\u001b[0;32m     10\u001b[0m \u001b[0mprint\u001b[0m\u001b[1;33m(\u001b[0m\u001b[1;34m\"global variable outside function = \"\u001b[0m\u001b[1;33m,\u001b[0m \u001b[0mv\u001b[0m\u001b[1;33m)\u001b[0m\u001b[1;33m\u001b[0m\u001b[1;33m\u001b[0m\u001b[0m\n",
      "\u001b[1;32m<ipython-input-6-facfebf304f6>\u001b[0m in \u001b[0;36mfun\u001b[1;34m()\u001b[0m\n\u001b[0;32m      4\u001b[0m \u001b[1;32mdef\u001b[0m \u001b[0mfun\u001b[0m\u001b[1;33m(\u001b[0m\u001b[1;33m)\u001b[0m\u001b[1;33m:\u001b[0m\u001b[1;33m\u001b[0m\u001b[1;33m\u001b[0m\u001b[0m\n\u001b[0;32m      5\u001b[0m     \u001b[1;34m'''Change and print global variable'''\u001b[0m\u001b[1;33m\u001b[0m\u001b[1;33m\u001b[0m\u001b[0m\n\u001b[1;32m----> 6\u001b[1;33m     \u001b[0mv\u001b[0m \u001b[1;33m=\u001b[0m \u001b[0mv\u001b[0m \u001b[1;33m+\u001b[0m \u001b[1;36m1\u001b[0m\u001b[1;33m\u001b[0m\u001b[1;33m\u001b[0m\u001b[0m\n\u001b[0m\u001b[0;32m      7\u001b[0m     \u001b[0mprint\u001b[0m\u001b[1;33m(\u001b[0m\u001b[1;34m\"global variable inside function = \"\u001b[0m\u001b[1;33m,\u001b[0m \u001b[0mv\u001b[0m\u001b[1;33m)\u001b[0m\u001b[1;33m\u001b[0m\u001b[1;33m\u001b[0m\u001b[0m\n\u001b[0;32m      8\u001b[0m \u001b[1;33m\u001b[0m\u001b[0m\n",
      "\u001b[1;31mUnboundLocalError\u001b[0m: local variable 'v' referenced before assignment"
     ]
    }
   ],
   "source": [
    "# Declare global variable\n",
    "v = 5\n",
    "\n",
    "def fun():\n",
    "    '''Change and print global variable'''\n",
    "    v = v + 1\n",
    "    print(\"global variable inside function = \", v)\n",
    "\n",
    "fun()\n",
    "print(\"global variable outside function = \", v)"
   ]
  },
  {
   "cell_type": "markdown",
   "metadata": {
    "colab_type": "text",
    "id": "AtHVwcWuVAWa"
   },
   "source": [
    "Python throws an error `UnboundLocalError: local variable 'v' referenced before assignment` because if you try to change a variable it is treated as local, but locally it was **not** defined."
   ]
  },
  {
   "cell_type": "markdown",
   "metadata": {
    "colab_type": "text",
    "id": "oedhCTwuVAWd"
   },
   "source": [
    "### Keyword `global`"
   ]
  },
  {
   "cell_type": "markdown",
   "metadata": {
    "colab_type": "text",
    "id": "0zZvdGq4VAWf"
   },
   "source": [
    "If we do want to **change** global variable locally inside function, then we need to use key word `global`."
   ]
  },
  {
   "cell_type": "code",
   "execution_count": null,
   "metadata": {
    "colab": {},
    "colab_type": "code",
    "id": "L-J6UuQIVAWg",
    "outputId": "563384d6-f687-4bad-90a9-93b7f9545945"
   },
   "outputs": [
    {
     "name": "stdout",
     "output_type": "stream",
     "text": [
      "global variable inside function =  6\n",
      "global variable outside function =  6\n"
     ]
    }
   ],
   "source": [
    "# Declare global variable\n",
    "v = 5\n",
    "\n",
    "def fun():\n",
    "    '''Change and print global variable'''\n",
    "    global v\n",
    "    v = v + 1\n",
    "    print(\"global variable inside function = \", v)\n",
    "\n",
    "fun()\n",
    "print(\"global variable outside function = \", v)"
   ]
  },
  {
   "cell_type": "markdown",
   "metadata": {
    "colab_type": "text",
    "id": "N94E7MYsVAWm"
   },
   "source": [
    "Now global variable was successfully changed inside the function and this change is permanent to the global variable."
   ]
  },
  {
   "cell_type": "markdown",
   "metadata": {
    "colab_type": "text",
    "id": "hGf3wqwnVAWq"
   },
   "source": [
    "But what is happen if we don't change but **redefine** global variable inside function? In this case new variable with the **same** name will be created inside function, **locally**."
   ]
  },
  {
   "cell_type": "markdown",
   "metadata": {
    "colab_type": "text",
    "id": "WSUA9fSfVAWr"
   },
   "source": [
    "### Local Variable"
   ]
  },
  {
   "cell_type": "markdown",
   "metadata": {
    "colab_type": "text",
    "id": "0PcCznlLVAWw"
   },
   "source": [
    "**Local variable** - a variable declared inside function. No keyword `local` or type of variable is required."
   ]
  },
  {
   "cell_type": "code",
   "execution_count": null,
   "metadata": {
    "colab": {},
    "colab_type": "code",
    "id": "lkVGFssVVAWz",
    "outputId": "f0143626-ffb3-4038-a81b-47e9d1ad0495"
   },
   "outputs": [
    {
     "name": "stdout",
     "output_type": "stream",
     "text": [
      "redefined global variable inside function is now local =  1\n",
      "global variable outside function stays the same =  5\n"
     ]
    }
   ],
   "source": [
    "# Declare global variable\n",
    "v = 5\n",
    "\n",
    "def fun():\n",
    "    '''Redefine global variable and print it'''\n",
    "    v = 1\n",
    "    print(\"redefined global variable inside function is now local = \", v)\n",
    "\n",
    "fun()\n",
    "print(\"global variable outside function stays the same = \", v)"
   ]
  },
  {
   "cell_type": "markdown",
   "metadata": {
    "colab_type": "text",
    "id": "Kyu6UeFrVAW4"
   },
   "source": [
    "Note, local variable with name `v` doesn't affect global variable with the same name `v` in any way. In pseudocode we can consider existence of two variables `global.v` and `local.v` in our script, but only `local.v` is now refered as `v` inside function."
   ]
  },
  {
   "cell_type": "markdown",
   "metadata": {
    "colab_type": "text",
    "id": "2WN-A5JAVAW5"
   },
   "source": [
    "### Nonlocal Variable"
   ]
  },
  {
   "cell_type": "markdown",
   "metadata": {
    "colab_type": "text",
    "id": "I0VRl1ueVAW8"
   },
   "source": [
    "**Nonlocal Variable** - is a variable created in nested function. We need to use key word `nonlocal` to define it. Example from [programiz.com](https://www.programiz.com/python-programming/global-local-nonlocal-variables):"
   ]
  },
  {
   "cell_type": "code",
   "execution_count": null,
   "metadata": {
    "colab": {},
    "colab_type": "code",
    "id": "T4SglJC7VAW_",
    "outputId": "5e950665-e045-403a-f909-100d71975bd5"
   },
   "outputs": [
    {
     "name": "stdout",
     "output_type": "stream",
     "text": [
      "x in inner function =  inner\n",
      "x in outer function =  inner\n"
     ]
    }
   ],
   "source": [
    "def outer():\n",
    "    x = \"outer\"\n",
    "    \n",
    "    def inner():\n",
    "        nonlocal x\n",
    "        x = \"inner\"\n",
    "        print(\"x in inner function = \", x)\n",
    "    \n",
    "    inner()\n",
    "    print(\"x in outer function = \", x)\n",
    "\n",
    "outer()"
   ]
  },
  {
   "cell_type": "markdown",
   "metadata": {
    "colab_type": "text",
    "id": "RJaOl_F9VAXG"
   },
   "source": [
    "Note, that variable `x` was changed in `inner` function and stays changed in `outer` function. Compare with the same code but when variable `x` in function `inner` is not defined as `nonlocal`:"
   ]
  },
  {
   "cell_type": "code",
   "execution_count": null,
   "metadata": {
    "colab": {},
    "colab_type": "code",
    "id": "T_55QJqPVAXJ",
    "outputId": "570426fb-04d7-48a8-caaa-c02ffb0fb0e8"
   },
   "outputs": [
    {
     "name": "stdout",
     "output_type": "stream",
     "text": [
      "x in inner function =  inner\n",
      "x in outer function =  outer\n"
     ]
    }
   ],
   "source": [
    "def outer():\n",
    "    x = \"outer\"\n",
    "    \n",
    "    def inner():\n",
    "        ### nonlocal x\n",
    "        x = \"inner\"\n",
    "        print(\"x in inner function = \", x)\n",
    "    \n",
    "    inner()\n",
    "    print(\"x in outer function = \", x)\n",
    "\n",
    "outer()"
   ]
  },
  {
   "cell_type": "markdown",
   "metadata": {
    "colab_type": "text",
    "id": "sNfu852_VAXP"
   },
   "source": [
    "Now `x` in `outer` and `x` in `inner` functions are both local and different."
   ]
  },
  {
   "cell_type": "markdown",
   "metadata": {
    "colab_type": "text",
    "id": "G2mE0KL4VAXS"
   },
   "source": [
    "## Nested Function"
   ]
  },
  {
   "cell_type": "markdown",
   "metadata": {
    "colab_type": "text",
    "id": "l0fvQbWLVAXV"
   },
   "source": [
    "Function inside function"
   ]
  },
  {
   "cell_type": "markdown",
   "metadata": {
    "colab_type": "text",
    "id": "7NXMSC8GVAXX"
   },
   "source": [
    "## Function Returns Function"
   ]
  },
  {
   "cell_type": "markdown",
   "metadata": {
    "colab_type": "text",
    "id": "y-MhL20xVAXX"
   },
   "source": [
    "Example from [datacamp.com](https://campus.datacamp.com/courses/python-data-science-toolbox-part-1)"
   ]
  },
  {
   "cell_type": "code",
   "execution_count": null,
   "metadata": {
    "colab": {},
    "colab_type": "code",
    "id": "eofxmmLlVAXZ",
    "outputId": "e66d3fb6-cdfe-4af5-9287-8ad53a139617"
   },
   "outputs": [
    {
     "name": "stdout",
     "output_type": "stream",
     "text": [
      "type of square =  <class 'function'>\n",
      "type of cube <class 'function'>\n",
      "100\n",
      "1000\n"
     ]
    }
   ],
   "source": [
    "def raise_val(n):\n",
    "    '''Return the inner function'''\n",
    "    \n",
    "    def inner(x):\n",
    "        '''Raise x to power of n'''\n",
    "        raised = x ** n\n",
    "        return raised # this function returns variable\n",
    "    \n",
    "    return inner # this function returns function!\n",
    "\n",
    "square = raise_val(2) # square is function!\n",
    "cube = raise_val(3) # cube is function!\n",
    "\n",
    "print(\"type of square = \", type(square))\n",
    "print(\"type of cube\",type(cube))\n",
    "\n",
    "print(square(10))\n",
    "print(cube(10))"
   ]
  },
  {
   "cell_type": "markdown",
   "metadata": {
    "colab_type": "text",
    "id": "mSNEE0CaVAXg"
   },
   "source": [
    "## Function Arguments"
   ]
  },
  {
   "cell_type": "markdown",
   "metadata": {
    "colab_type": "text",
    "id": "oKzIWVxKVAXi"
   },
   "source": [
    "### Default Arguments"
   ]
  },
  {
   "cell_type": "markdown",
   "metadata": {
    "colab_type": "text",
    "id": "WQeQjXCgVAXk"
   },
   "source": [
    "Deafult arguments are defined in function header:"
   ]
  },
  {
   "cell_type": "code",
   "execution_count": null,
   "metadata": {
    "colab": {},
    "colab_type": "code",
    "id": "R1SXLgjtVAXl"
   },
   "outputs": [],
   "source": [
    "def fun(v1, v2 = 1, v3 = 2):\n",
    "    print(\"v1 = \", v1)\n",
    "    print(\"v2 = \", v2)\n",
    "    print(\"v3 = \", v3)"
   ]
  },
  {
   "cell_type": "markdown",
   "metadata": {
    "colab_type": "text",
    "id": "2VlrZzjEVAXq"
   },
   "source": [
    "If we supply second argument for the function, then `v2` gets its new value, but `v3` will be default:"
   ]
  },
  {
   "cell_type": "code",
   "execution_count": null,
   "metadata": {
    "colab": {},
    "colab_type": "code",
    "id": "VyoM8aCsVAXt",
    "outputId": "c5518447-8a39-4cfc-8e30-8908802d3a5d"
   },
   "outputs": [
    {
     "name": "stdout",
     "output_type": "stream",
     "text": [
      "v1 =  1\n",
      "v2 =  2\n",
      "v3 =  2\n"
     ]
    }
   ],
   "source": [
    "fun(1,2)"
   ]
  },
  {
   "cell_type": "markdown",
   "metadata": {
    "colab_type": "text",
    "id": "ORH3QmSrVAXz"
   },
   "source": [
    "If we supply only first argument, then deafualt values `v2=1` and `v3=2` will be used in the function:"
   ]
  },
  {
   "cell_type": "code",
   "execution_count": null,
   "metadata": {
    "colab": {},
    "colab_type": "code",
    "id": "P116rt0bVAX1",
    "outputId": "8e147645-8649-4bca-ab4b-bab33274ef66"
   },
   "outputs": [
    {
     "name": "stdout",
     "output_type": "stream",
     "text": [
      "v1 =  1\n",
      "v2 =  1\n",
      "v3 =  2\n"
     ]
    }
   ],
   "source": [
    "fun(1)"
   ]
  },
  {
   "cell_type": "markdown",
   "metadata": {
    "colab_type": "text",
    "id": "HLluwkdFVAX7"
   },
   "source": [
    "If we submit argument with its name, then it will change only it:"
   ]
  },
  {
   "cell_type": "code",
   "execution_count": null,
   "metadata": {
    "colab": {},
    "colab_type": "code",
    "id": "5VcyOp2IVAX-",
    "outputId": "50dcf64e-8424-411b-f554-27bfdf6f2bdf"
   },
   "outputs": [
    {
     "name": "stdout",
     "output_type": "stream",
     "text": [
      "v1 =  1\n",
      "v2 =  1\n",
      "v3 =  3\n"
     ]
    }
   ],
   "source": [
    "fun(1, v3 = 3)"
   ]
  },
  {
   "cell_type": "markdown",
   "metadata": {
    "colab_type": "text",
    "id": "HtB3us7eVAYE"
   },
   "source": [
    "### Flexible Arguments"
   ]
  },
  {
   "cell_type": "markdown",
   "metadata": {
    "colab_type": "text",
    "id": "rHisZcr5VAYF"
   },
   "source": [
    "Function could accept any number of arguments. Such input starts with `*`, it is usually called `*args` (as in C++) but it could be anything, what is important is preceding `*`. This input is treated as `tuple`:"
   ]
  },
  {
   "cell_type": "code",
   "execution_count": null,
   "metadata": {
    "colab": {},
    "colab_type": "code",
    "id": "IhmP4RWmVAYF"
   },
   "outputs": [],
   "source": [
    "def fun(*args):\n",
    "    print(\"args = \", args)\n",
    "    print(\"type = \", type(args))\n",
    "    print(\"len = \", len(args))\n",
    "    for i in args:\n",
    "        print(i)"
   ]
  },
  {
   "cell_type": "markdown",
   "metadata": {
    "colab_type": "text",
    "id": "jcvfvyypVAYJ"
   },
   "source": [
    "The following is simple example with 1 input:"
   ]
  },
  {
   "cell_type": "code",
   "execution_count": null,
   "metadata": {
    "colab": {},
    "colab_type": "code",
    "id": "wTIP8CBWVAYL",
    "outputId": "1988bbed-c2fc-41ff-f16b-328d10845150"
   },
   "outputs": [
    {
     "name": "stdout",
     "output_type": "stream",
     "text": [
      "args =  (1,)\n",
      "type =  <class 'tuple'>\n",
      "len =  1\n",
      "1\n"
     ]
    }
   ],
   "source": [
    "fun(1)"
   ]
  },
  {
   "cell_type": "markdown",
   "metadata": {
    "colab_type": "text",
    "id": "4FPYTCEsVAYR"
   },
   "source": [
    "The following is more complex example with multiple inputs of different types:"
   ]
  },
  {
   "cell_type": "code",
   "execution_count": null,
   "metadata": {
    "colab": {},
    "colab_type": "code",
    "id": "yC49JpFJVAYV",
    "outputId": "6dbf3103-a3f9-4461-dc35-ce761542d3e3"
   },
   "outputs": [
    {
     "name": "stdout",
     "output_type": "stream",
     "text": [
      "args =  (1, 2, 3, 'hello', 'world', (3, 4, 5))\n",
      "type =  <class 'tuple'>\n",
      "len =  6\n",
      "1\n",
      "2\n",
      "3\n",
      "hello\n",
      "world\n",
      "(3, 4, 5)\n"
     ]
    }
   ],
   "source": [
    "fun(1,2,3,\"hello\",\"world\",(3,4,5))"
   ]
  },
  {
   "cell_type": "markdown",
   "metadata": {
    "colab_type": "text",
    "id": "-jAFs4GtVAYg"
   },
   "source": [
    "Function could accept any number of arguments with identifiers. Such input starts with `**`, it is usually called `**kwargs` (as in C++) but it could be anything, what is important is preceding `**`. This input is treated as `dictionary`:"
   ]
  },
  {
   "cell_type": "code",
   "execution_count": null,
   "metadata": {
    "colab": {},
    "colab_type": "code",
    "id": "GWZY0pgUVAYj"
   },
   "outputs": [],
   "source": [
    "def fun(**kwargs):\n",
    "    print(\"kwargs = \", kwargs)\n",
    "    print(\"type = \", type(kwargs))\n",
    "    print(\"len = \", len(kwargs))\n",
    "    for key, val in kwargs.items():\n",
    "        print(key + \": \" + str(val))"
   ]
  },
  {
   "cell_type": "code",
   "execution_count": null,
   "metadata": {
    "colab": {},
    "colab_type": "code",
    "id": "J5Y8GPGsVAYm",
    "outputId": "f09d7152-ecdd-4fdf-cdec-638aac5a20b3"
   },
   "outputs": [
    {
     "name": "stdout",
     "output_type": "stream",
     "text": [
      "kwargs =  {'var1': 1}\n",
      "type =  <class 'dict'>\n",
      "len =  1\n",
      "var1: 1\n"
     ]
    }
   ],
   "source": [
    "fun(var1 = 1)"
   ]
  },
  {
   "cell_type": "code",
   "execution_count": null,
   "metadata": {
    "colab": {},
    "colab_type": "code",
    "id": "dqq2-a2pVAYq",
    "outputId": "79fd307c-0055-45c5-bbc6-6740337e2db3"
   },
   "outputs": [
    {
     "name": "stdout",
     "output_type": "stream",
     "text": [
      "kwargs =  {'var1': 1, 'var2': 2, 'var3': 3, 'str1': 'hello', 'str2': 'world', 'tup1': (3, 4, 5)}\n",
      "type =  <class 'dict'>\n",
      "len =  6\n",
      "var1: 1\n",
      "var2: 2\n",
      "var3: 3\n",
      "str1: hello\n",
      "str2: world\n",
      "tup1: (3, 4, 5)\n"
     ]
    }
   ],
   "source": [
    "fun(var1 = 1, var2 = 2, var3 = 3, str1 = \"hello\", str2 = \"world\", tup1 = (3,4,5))"
   ]
  },
  {
   "cell_type": "markdown",
   "metadata": {
    "colab_type": "text",
    "id": "k_IJEKsFVAYt"
   },
   "source": [
    "Finally, function could be defined with mix of all types of arguments, keyword arguments have to follow positional arguments: "
   ]
  },
  {
   "cell_type": "code",
   "execution_count": null,
   "metadata": {
    "colab": {},
    "colab_type": "code",
    "id": "R4bWhkcRVAYu"
   },
   "outputs": [],
   "source": [
    "def fun(v1, *args, v2 = 1, **kwargs):\n",
    "    print(\"v1 = \", v1)\n",
    "    print(\"args = \", args)\n",
    "    print(\"v2 = \", v2)\n",
    "    print(\"kwargs = \", kwargs)"
   ]
  },
  {
   "cell_type": "code",
   "execution_count": null,
   "metadata": {
    "colab": {},
    "colab_type": "code",
    "id": "DInm8pczVAYz",
    "outputId": "f0010363-d3e2-40ac-c54b-6f51b28d5176"
   },
   "outputs": [
    {
     "name": "stdout",
     "output_type": "stream",
     "text": [
      "v1 =  1\n",
      "args =  ()\n",
      "v2 =  1\n",
      "kwargs =  {}\n"
     ]
    }
   ],
   "source": [
    "fun(1)"
   ]
  },
  {
   "cell_type": "code",
   "execution_count": null,
   "metadata": {
    "colab": {},
    "colab_type": "code",
    "id": "YcRBEKIXVAY3",
    "outputId": "a46f26e9-2cb1-4b87-9941-36431a1a9130"
   },
   "outputs": [
    {
     "name": "stdout",
     "output_type": "stream",
     "text": [
      "v1 =  1\n",
      "args =  (2,)\n",
      "v2 =  3\n",
      "kwargs =  {'v3': 4}\n"
     ]
    }
   ],
   "source": [
    "fun(1, 2, v2=3, v3=4)"
   ]
  },
  {
   "cell_type": "markdown",
   "metadata": {
    "colab_type": "text",
    "id": "9vB6qkKgVAY6"
   },
   "source": [
    "### Unpacking Operators `*` and `**`"
   ]
  },
  {
   "cell_type": "markdown",
   "metadata": {
    "colab_type": "text",
    "id": "j-XBlQsZVAY7"
   },
   "source": [
    "Single asterisk `*` and double asterisks `**` are unpacking operators:\n",
    " * `*` unpacks iterables (list, tuple)\n",
    " * `**` unpacks dictionaries"
   ]
  },
  {
   "cell_type": "code",
   "execution_count": null,
   "metadata": {
    "colab": {},
    "colab_type": "code",
    "id": "aCtCSLmMVAY9"
   },
   "outputs": [],
   "source": [
    "lst = [1, 2, 3, 4]"
   ]
  },
  {
   "cell_type": "markdown",
   "metadata": {
    "colab_type": "text",
    "id": "pSvXy1sBVAZB"
   },
   "source": [
    "Print this list:"
   ]
  },
  {
   "cell_type": "code",
   "execution_count": null,
   "metadata": {
    "colab": {},
    "colab_type": "code",
    "id": "zGcLoveQVAZB",
    "outputId": "4376b7dd-7810-4606-b7ae-e121d6392d41"
   },
   "outputs": [
    {
     "name": "stdout",
     "output_type": "stream",
     "text": [
      "[1, 2, 3, 4]\n"
     ]
    }
   ],
   "source": [
    "print(lst)"
   ]
  },
  {
   "cell_type": "markdown",
   "metadata": {
    "colab_type": "text",
    "id": "IaR82ruSVAZF"
   },
   "source": [
    "Print content of the list - unpack it:"
   ]
  },
  {
   "cell_type": "code",
   "execution_count": null,
   "metadata": {
    "colab": {},
    "colab_type": "code",
    "id": "scyU_y34VAZG",
    "outputId": "cab82ea3-78d2-4269-c2b5-5bd25ed22cd2"
   },
   "outputs": [
    {
     "name": "stdout",
     "output_type": "stream",
     "text": [
      "1 2 3 4\n"
     ]
    }
   ],
   "source": [
    "print(*lst)"
   ]
  },
  {
   "cell_type": "markdown",
   "metadata": {
    "colab_type": "text",
    "id": "d9s0lW6EVAZK"
   },
   "source": [
    "Remember that the `*` operator works on any iterable object. It can also be used to unpack a `string`:"
   ]
  },
  {
   "cell_type": "code",
   "execution_count": null,
   "metadata": {
    "colab": {},
    "colab_type": "code",
    "id": "UsS1C6w2VAZK",
    "outputId": "0faaa328-d069-46be-a603-b42313359cbd"
   },
   "outputs": [
    {
     "name": "stdout",
     "output_type": "stream",
     "text": [
      "R e a l P y t h o n\n"
     ]
    }
   ],
   "source": [
    "a = \"RealPython\"\n",
    "print(*a)"
   ]
  },
  {
   "cell_type": "markdown",
   "metadata": {
    "colab_type": "text",
    "id": "sVcag52XVAZR"
   },
   "source": [
    "And assign it to elements of a list:"
   ]
  },
  {
   "cell_type": "code",
   "execution_count": null,
   "metadata": {
    "colab": {},
    "colab_type": "code",
    "id": "earQKk93VAZS",
    "outputId": "751a69a5-dd9d-4190-d116-b4b15c7a5b30"
   },
   "outputs": [
    {
     "name": "stdout",
     "output_type": "stream",
     "text": [
      "['R', 'e', 'a', 'l', 'P', 'y', 't', 'h', 'o', 'n']\n"
     ]
    }
   ],
   "source": [
    "a = [*\"RealPython\"]\n",
    "print(a)"
   ]
  },
  {
   "cell_type": "markdown",
   "metadata": {
    "colab_type": "text",
    "id": "ZNQpukt2VAZW"
   },
   "source": [
    "There are other convenient uses of the unpacking operator. For example, say you need to split a list into three different parts. The output should show the first value, the last value, and all the values in between. With the unpacking operator, you can do this in just one line of code (example from [realpython.com](https://realpython.com/python-kwargs-and-args/):"
   ]
  },
  {
   "cell_type": "code",
   "execution_count": null,
   "metadata": {
    "colab": {},
    "colab_type": "code",
    "id": "10gDEvXHVAZX",
    "outputId": "c45b9c12-968a-44af-d85c-236da0a7eb39"
   },
   "outputs": [
    {
     "name": "stdout",
     "output_type": "stream",
     "text": [
      "1\n",
      "[2, 3, 4, 5]\n",
      "6\n"
     ]
    }
   ],
   "source": [
    "lst = [1, 2, 3, 4, 5, 6]\n",
    "\n",
    "a, *b, c = lst\n",
    "\n",
    "print(a)\n",
    "print(b)\n",
    "print(c)"
   ]
  },
  {
   "cell_type": "markdown",
   "metadata": {
    "colab_type": "text",
    "id": "Z89pYNuKVAZe"
   },
   "source": [
    "This could be very useful if you need to merge two lists, for instance:"
   ]
  },
  {
   "cell_type": "code",
   "execution_count": null,
   "metadata": {
    "colab": {},
    "colab_type": "code",
    "id": "FMxBMGozVAZf",
    "outputId": "979ba406-5b60-4903-8b69-109ad5fcb3a5"
   },
   "outputs": [
    {
     "name": "stdout",
     "output_type": "stream",
     "text": [
      "[1, 2, 3, 4, 5, 6]\n"
     ]
    }
   ],
   "source": [
    "lst1 = [1, 2, 3]\n",
    "lst2 = [4, 5, 6]\n",
    "merged_list = [*lst1, *lst2]\n",
    "\n",
    "print(merged_list)"
   ]
  },
  {
   "cell_type": "markdown",
   "metadata": {
    "colab_type": "text",
    "id": "Io-R7CMrVAZo"
   },
   "source": [
    "You can even merge two different dictionaries by using the unpacking operator for dictionaries `**`:"
   ]
  },
  {
   "cell_type": "code",
   "execution_count": null,
   "metadata": {
    "colab": {},
    "colab_type": "code",
    "id": "7EZ6eQwCVAZq",
    "outputId": "be7e96da-6a6b-4c82-c62a-edfc8bd24da6"
   },
   "outputs": [
    {
     "name": "stdout",
     "output_type": "stream",
     "text": [
      "{'A': 1, 'B': 2, 'C': 3, 'D': 4}\n"
     ]
    }
   ],
   "source": [
    "dct1 = {\"A\": 1, \"B\": 2}\n",
    "dct2 = {\"C\": 3, \"D\": 4}\n",
    "merged_dict = {**dct1, **dct2}\n",
    "\n",
    "print(merged_dict)"
   ]
  },
  {
   "cell_type": "markdown",
   "metadata": {
    "colab_type": "text",
    "id": "bXDhGauyVAZx"
   },
   "source": [
    "## Lambda Functions"
   ]
  },
  {
   "cell_type": "markdown",
   "metadata": {
    "colab_type": "text",
    "id": "nMslDbaiVAZz"
   },
   "source": [
    "A [`lambda` function](https://www.w3schools.com/python/python_lambda.asp) is a small nameless or anonymous function with syntax:\n",
    "\n",
    "```\n",
    "lambda arguments : expression\n",
    "```\n",
    "\n",
    "where the expression is executed and the result is returned. Use lambda functions when an anonymous function is required for a short period of time.\n",
    "\n",
    "Note, lambda expressions have their roots in [lambda calculus](https://en.wikipedia.org/wiki/Lambda_calculus), a model of computation invented by [Alonzo Church](https://en.wikipedia.org/wiki/Alonzo_Church). "
   ]
  },
  {
   "cell_type": "markdown",
   "metadata": {},
   "source": [
    "A `lambda` function can directly accept input, for instance:"
   ]
  },
  {
   "cell_type": "code",
   "execution_count": null,
   "metadata": {
    "colab": {},
    "colab_type": "code",
    "id": "oPqqyuRqVAZ0",
    "outputId": "0b0e534e-8a66-4a53-d635-451e534fe9cd"
   },
   "outputs": [
    {
     "data": {
      "text/plain": [
       "3"
      ]
     },
     "execution_count": 74,
     "metadata": {
      "tags": []
     },
     "output_type": "execute_result"
    }
   ],
   "source": [
    "(lambda var: var + 1)(2)"
   ]
  },
  {
   "cell_type": "markdown",
   "metadata": {
    "colab_type": "text",
    "id": "9C-rXd3KVAZ4"
   },
   "source": [
    "Because a `lambda` function is an expression, it **can be named despite nameless nature**, for instance as `x` below:"
   ]
  },
  {
   "cell_type": "code",
   "execution_count": null,
   "metadata": {
    "colab": {},
    "colab_type": "code",
    "id": "HOzQQCgxVAZ5",
    "outputId": "400e322d-8757-4fb0-c769-f0eb15a31151"
   },
   "outputs": [
    {
     "name": "stdout",
     "output_type": "stream",
     "text": [
      "2\n"
     ]
    }
   ],
   "source": [
    "x = lambda var : var + 1\n",
    "print(x(1))"
   ]
  },
  {
   "cell_type": "markdown",
   "metadata": {
    "colab_type": "text",
    "id": "wkAY08A5VAZ9"
   },
   "source": [
    "A `lambda` function can take any number of arguments, but can only have one expression:"
   ]
  },
  {
   "cell_type": "code",
   "execution_count": null,
   "metadata": {
    "colab": {},
    "colab_type": "code",
    "id": "XnrFDTZxVAZ_",
    "outputId": "cb8beea4-eb97-48d8-fd7b-e6a9f13fa190"
   },
   "outputs": [
    {
     "name": "stdout",
     "output_type": "stream",
     "text": [
      "4\n"
     ]
    }
   ],
   "source": [
    "x = lambda var1, var2 : var1 + var2 + 1\n",
    "print(x(1,2))"
   ]
  },
  {
   "cell_type": "markdown",
   "metadata": {
    "colab_type": "text",
    "id": "RvZeeBxaVAaE"
   },
   "source": [
    "A `lambda` function usually is used as an argument to a higher-order function (a function that takes in other functions as arguments). `Lambda` functions are also used along with built-in functions like `filter()` , `map()`, `reduce()` etc.\n",
    " \n",
    "Example use with `filter()`:"
   ]
  },
  {
   "cell_type": "code",
   "execution_count": null,
   "metadata": {
    "colab": {},
    "colab_type": "code",
    "id": "z0iIfdeiVAaG",
    "outputId": "f397eb3d-3841-47a8-85d0-06c2c0c0058c"
   },
   "outputs": [
    {
     "name": "stdout",
     "output_type": "stream",
     "text": [
      "[3, 6, 9]\n"
     ]
    }
   ],
   "source": [
    "lst = [1, 2, 3, 4, 5, 6, 7, 8, 9]\n",
    "lst2 = list(filter(lambda x: (x%3 == 0) , lst))\n",
    "print(lst2)"
   ]
  },
  {
   "cell_type": "markdown",
   "metadata": {
    "colab_type": "text",
    "id": "CKSyrCpyVAaM"
   },
   "source": [
    "Note, that `list` is used over return of `filter`, otherwise `filter` returns address of an object (which is iterator), but not resulting list itself. Check it out:"
   ]
  },
  {
   "cell_type": "code",
   "execution_count": 2,
   "metadata": {
    "colab": {},
    "colab_type": "code",
    "id": "76gC2hDxVAaN",
    "outputId": "b7278771-e6ca-4ff6-eb6f-12a67eb1ad74"
   },
   "outputs": [
    {
     "name": "stdout",
     "output_type": "stream",
     "text": [
      "<filter object at 0x0000020F2FA7CE88>\n"
     ]
    }
   ],
   "source": [
    "lst = [1, 2, 3, 4, 5, 6, 7, 8, 9]\n",
    "lst2 = filter(lambda x: (x%3 == 0) , lst)\n",
    "print(lst2)"
   ]
  },
  {
   "cell_type": "markdown",
   "metadata": {
    "colab_type": "text",
    "id": "0wj3X1gJVAaS"
   },
   "source": [
    "Example use with `map()`:"
   ]
  },
  {
   "cell_type": "code",
   "execution_count": null,
   "metadata": {
    "colab": {},
    "colab_type": "code",
    "id": "AjjRtjATVAah",
    "outputId": "08429194-4237-4ea2-fdec-bdda1bca1db8"
   },
   "outputs": [
    {
     "name": "stdout",
     "output_type": "stream",
     "text": [
      "[False, False, True, False, False, True, False, False, True]\n"
     ]
    }
   ],
   "source": [
    "lst = [1, 2, 3, 4, 5, 6, 7, 8, 9]\n",
    "lst2 = list(map(lambda x: (x%3 == 0) , lst))\n",
    "print(lst2)"
   ]
  },
  {
   "cell_type": "markdown",
   "metadata": {},
   "source": [
    "**Note, `lambda` functions together with `map()` and `list()` can create and modify lists similar to [list comprehension](ListComprehension.ipynb).**"
   ]
  },
  {
   "cell_type": "markdown",
   "metadata": {
    "colab_type": "text",
    "id": "eSiKW6eMVAal"
   },
   "source": [
    "Example use with `reduce()`:"
   ]
  },
  {
   "cell_type": "code",
   "execution_count": null,
   "metadata": {
    "colab": {},
    "colab_type": "code",
    "id": "I6D_NAzZVAam",
    "outputId": "f6cb6ca8-a01b-4c38-dd91-5aa551ded5b7"
   },
   "outputs": [
    {
     "name": "stdout",
     "output_type": "stream",
     "text": [
      "45\n"
     ]
    }
   ],
   "source": [
    "from functools import reduce\n",
    "lst = [1, 2, 3, 4, 5, 6, 7, 8, 9]\n",
    "lst2 = reduce(lambda x, y: x+y , lst)\n",
    "print(lst2)"
   ]
  },
  {
   "cell_type": "markdown",
   "metadata": {
    "colab_type": "text",
    "id": "IwjwSkIWVAaq"
   },
   "source": [
    "## Error Handling: `raise` and `except`"
   ]
  },
  {
   "cell_type": "markdown",
   "metadata": {
    "colab_type": "text",
    "id": "N-HZz4blVAaq"
   },
   "source": [
    "When we write a function it is good to catch specific problems and print out specific error messages."
   ]
  },
  {
   "cell_type": "code",
   "execution_count": null,
   "metadata": {
    "colab": {},
    "colab_type": "code",
    "id": "XtNQyZlsVAax"
   },
   "outputs": [],
   "source": [
    "def sqrt(x):\n",
    "    \"\"\"Returns the square root of an input number\"\"\"\n",
    "    try:\n",
    "        return x ** 0.5\n",
    "    except:\n",
    "        print(\"input has to be a number\")"
   ]
  },
  {
   "cell_type": "code",
   "execution_count": null,
   "metadata": {
    "colab": {},
    "colab_type": "code",
    "id": "b99-bClGVAay",
    "outputId": "877548d6-05b9-4005-a918-34a0609ba004"
   },
   "outputs": [
    {
     "data": {
      "text/plain": [
       "2.0"
      ]
     },
     "execution_count": 88,
     "metadata": {
      "tags": []
     },
     "output_type": "execute_result"
    }
   ],
   "source": [
    "sqrt(4)"
   ]
  },
  {
   "cell_type": "code",
   "execution_count": null,
   "metadata": {
    "colab": {},
    "colab_type": "code",
    "id": "ANQKl1BBVAa1",
    "outputId": "8ab05064-c821-4d97-8a4f-ed8e50e3ddc0"
   },
   "outputs": [
    {
     "name": "stdout",
     "output_type": "stream",
     "text": [
      "input has to be a number\n"
     ]
    }
   ],
   "source": [
    "sqrt(\"four\")"
   ]
  },
  {
   "cell_type": "markdown",
   "metadata": {
    "colab_type": "text",
    "id": "bGkrVPpDVAa3"
   },
   "source": [
    "We can specify which type of error will `exept` catch:"
   ]
  },
  {
   "cell_type": "code",
   "execution_count": null,
   "metadata": {
    "colab": {},
    "colab_type": "code",
    "id": "9JBF_h-7VAa5"
   },
   "outputs": [],
   "source": [
    "def sqrt(x):\n",
    "    \"\"\"Returns the square root of an input number\"\"\"\n",
    "    try:\n",
    "        return x ** 0.5\n",
    "    except TypeError:\n",
    "        print(\"input has to be a number\")"
   ]
  },
  {
   "cell_type": "code",
   "execution_count": null,
   "metadata": {
    "colab": {},
    "colab_type": "code",
    "id": "jUSAKgpAVAa7",
    "outputId": "c0fdafee-b8f2-4e48-9daf-776b0ea53219"
   },
   "outputs": [
    {
     "name": "stdout",
     "output_type": "stream",
     "text": [
      "input has to be a number\n"
     ]
    }
   ],
   "source": [
    "sqrt(\"four\")"
   ]
  },
  {
   "cell_type": "markdown",
   "metadata": {
    "colab_type": "text",
    "id": "mubksCZcVAa9"
   },
   "source": [
    "There are multiple types of [built-in exceptions](https://docs.python.org/3/library/exceptions.html)."
   ]
  },
  {
   "cell_type": "code",
   "execution_count": null,
   "metadata": {
    "colab": {},
    "colab_type": "code",
    "id": "psrtCjsIVAa-"
   },
   "outputs": [],
   "source": [
    "def sqrt(x):\n",
    "    try:\n",
    "        if x<0:\n",
    "            raise ValueError(\"input number has to be non-negative\")\n",
    "        return x ** 0.5\n",
    "    except TypeError:\n",
    "        print(\"input has to be a number\")"
   ]
  },
  {
   "cell_type": "code",
   "execution_count": null,
   "metadata": {
    "colab": {},
    "colab_type": "code",
    "id": "PHVX_ZeGVAa_",
    "outputId": "a38510d7-1440-41f3-8fb6-bf0de8d12407"
   },
   "outputs": [
    {
     "ename": "ValueError",
     "evalue": "input number has to be non-negative",
     "output_type": "error",
     "traceback": [
      "\u001b[1;31m---------------------------------------------------------------------------\u001b[0m",
      "\u001b[1;31mValueError\u001b[0m                                Traceback (most recent call last)",
      "\u001b[1;32m<ipython-input-96-ee0bfbfc0490>\u001b[0m in \u001b[0;36m<module>\u001b[1;34m\u001b[0m\n\u001b[1;32m----> 1\u001b[1;33m \u001b[0msqrt\u001b[0m\u001b[1;33m(\u001b[0m\u001b[1;33m-\u001b[0m\u001b[1;36m4\u001b[0m\u001b[1;33m)\u001b[0m\u001b[1;33m\u001b[0m\u001b[1;33m\u001b[0m\u001b[0m\n\u001b[0m",
      "\u001b[1;32m<ipython-input-95-261ebe3f0867>\u001b[0m in \u001b[0;36msqrt\u001b[1;34m(x)\u001b[0m\n\u001b[0;32m      2\u001b[0m     \u001b[1;32mtry\u001b[0m\u001b[1;33m:\u001b[0m\u001b[1;33m\u001b[0m\u001b[1;33m\u001b[0m\u001b[0m\n\u001b[0;32m      3\u001b[0m         \u001b[1;32mif\u001b[0m \u001b[0mx\u001b[0m\u001b[1;33m<\u001b[0m\u001b[1;36m0\u001b[0m\u001b[1;33m:\u001b[0m\u001b[1;33m\u001b[0m\u001b[1;33m\u001b[0m\u001b[0m\n\u001b[1;32m----> 4\u001b[1;33m             \u001b[1;32mraise\u001b[0m \u001b[0mValueError\u001b[0m\u001b[1;33m(\u001b[0m\u001b[1;34m\"input number has to be non-negative\"\u001b[0m\u001b[1;33m)\u001b[0m\u001b[1;33m\u001b[0m\u001b[1;33m\u001b[0m\u001b[0m\n\u001b[0m\u001b[0;32m      5\u001b[0m         \u001b[1;32mreturn\u001b[0m \u001b[0mx\u001b[0m \u001b[1;33m**\u001b[0m \u001b[1;36m0.5\u001b[0m\u001b[1;33m\u001b[0m\u001b[1;33m\u001b[0m\u001b[0m\n\u001b[0;32m      6\u001b[0m     \u001b[1;32mexcept\u001b[0m \u001b[0mTypeError\u001b[0m\u001b[1;33m:\u001b[0m\u001b[1;33m\u001b[0m\u001b[1;33m\u001b[0m\u001b[0m\n",
      "\u001b[1;31mValueError\u001b[0m: input number has to be non-negative"
     ]
    }
   ],
   "source": [
    "sqrt(-4)"
   ]
  },
  {
   "cell_type": "code",
   "execution_count": null,
   "metadata": {
    "colab": {},
    "colab_type": "code",
    "id": "TYn2Q-X0VAbB",
    "outputId": "55105ff2-a356-4c35-9694-d033251c1894"
   },
   "outputs": [
    {
     "data": {
      "text/plain": [
       "2.0"
      ]
     },
     "execution_count": 97,
     "metadata": {
      "tags": []
     },
     "output_type": "execute_result"
    }
   ],
   "source": [
    "sqrt(4)"
   ]
  },
  {
   "cell_type": "code",
   "execution_count": null,
   "metadata": {
    "colab": {},
    "colab_type": "code",
    "id": "cf-uxgHeVAbD",
    "outputId": "20086d59-946d-4993-f8ab-e5a2cfb40adf"
   },
   "outputs": [
    {
     "name": "stdout",
     "output_type": "stream",
     "text": [
      "input has to be a number\n"
     ]
    }
   ],
   "source": [
    "sqrt(\"four\")"
   ]
  }
 ],
 "metadata": {
  "colab": {
   "include_colab_link": true,
   "name": "Functions.ipynb",
   "provenance": [],
   "toc_visible": true
  },
  "kernelspec": {
   "display_name": "Python 3",
   "language": "python",
   "name": "python3"
  },
  "language_info": {
   "codemirror_mode": {
    "name": "ipython",
    "version": 3
   },
   "file_extension": ".py",
   "mimetype": "text/x-python",
   "name": "python",
   "nbconvert_exporter": "python",
   "pygments_lexer": "ipython3",
   "version": "3.7.4"
  }
 },
 "nbformat": 4,
 "nbformat_minor": 4
}
