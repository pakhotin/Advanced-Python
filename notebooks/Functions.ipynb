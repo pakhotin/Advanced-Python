{
 "cells": [
  {
   "cell_type": "markdown",
   "metadata": {},
   "source": [
    "# Python Functions"
   ]
  },
  {
   "cell_type": "markdown",
   "metadata": {},
   "source": [
    "## Function Syntax"
   ]
  },
  {
   "cell_type": "code",
   "execution_count": 26,
   "metadata": {},
   "outputs": [],
   "source": [
    "def function_name(parameters):\n",
    "    statements"
   ]
  },
  {
   "cell_type": "markdown",
   "metadata": {},
   "source": [
    "## Docstring"
   ]
  },
  {
   "cell_type": "markdown",
   "metadata": {},
   "source": [
    "**Docstring** - the first string after the function header is used to explain in brief, what a function does. It might take multiple lines."
   ]
  },
  {
   "cell_type": "code",
   "execution_count": 24,
   "metadata": {},
   "outputs": [
    {
     "name": "stdout",
     "output_type": "stream",
     "text": [
      "Hello, World\n"
     ]
    }
   ],
   "source": [
    "def fun():\n",
    "    '''This function prints\n",
    "    Hello, World message'''\n",
    "    print(\"Hello, World\")\n",
    "\n",
    "fun()"
   ]
  },
  {
   "cell_type": "markdown",
   "metadata": {},
   "source": [
    "This docstring is available to us as `__doc__` attribute of the function. Note, triple `\"\"\"` or `'''` are equivalent."
   ]
  },
  {
   "cell_type": "code",
   "execution_count": 25,
   "metadata": {},
   "outputs": [
    {
     "name": "stdout",
     "output_type": "stream",
     "text": [
      "This function prints\n",
      "    Hello, World message\n"
     ]
    }
   ],
   "source": [
    "def fun():\n",
    "    \"\"\"This function prints\n",
    "    Hello, World message\"\"\"\n",
    "    print(\"Hello, World\")\n",
    "\n",
    "print(fun.__doc__)"
   ]
  },
  {
   "cell_type": "markdown",
   "metadata": {},
   "source": [
    "## Global, Local and Nonlocal variables"
   ]
  },
  {
   "cell_type": "markdown",
   "metadata": {},
   "source": [
    "Good description of Python variables can be found in the following:\n",
    " * [programiz.com](https://www.programiz.com/python-programming/global-local-nonlocal-variables)"
   ]
  },
  {
   "cell_type": "markdown",
   "metadata": {},
   "source": [
    "### Global Variable"
   ]
  },
  {
   "cell_type": "markdown",
   "metadata": {},
   "source": [
    "**Global variable** - a variable declaired outside function. No keyword `global` or type of variable is required."
   ]
  },
  {
   "cell_type": "code",
   "execution_count": 5,
   "metadata": {},
   "outputs": [
    {
     "name": "stdout",
     "output_type": "stream",
     "text": [
      "global variable inside function =  5\n",
      "global variable outside function =  5\n"
     ]
    }
   ],
   "source": [
    "# Declare global variable\n",
    "v = 5\n",
    "\n",
    "def fun():\n",
    "    '''Access and print global variable'''\n",
    "    print(\"global variable inside function = \", v)\n",
    "\n",
    "fun()\n",
    "print(\"global variable outside function = \", v)"
   ]
  },
  {
   "cell_type": "markdown",
   "metadata": {},
   "source": [
    "Global variable is accessible for **reading** from any function in the same script. But global variable can not be changed."
   ]
  },
  {
   "cell_type": "code",
   "execution_count": 6,
   "metadata": {},
   "outputs": [
    {
     "ename": "UnboundLocalError",
     "evalue": "local variable 'v' referenced before assignment",
     "output_type": "error",
     "traceback": [
      "\u001b[1;31m---------------------------------------------------------------------------\u001b[0m",
      "\u001b[1;31mUnboundLocalError\u001b[0m                         Traceback (most recent call last)",
      "\u001b[1;32m<ipython-input-6-facfebf304f6>\u001b[0m in \u001b[0;36m<module>\u001b[1;34m\u001b[0m\n\u001b[0;32m      7\u001b[0m     \u001b[0mprint\u001b[0m\u001b[1;33m(\u001b[0m\u001b[1;34m\"global variable inside function = \"\u001b[0m\u001b[1;33m,\u001b[0m \u001b[0mv\u001b[0m\u001b[1;33m)\u001b[0m\u001b[1;33m\u001b[0m\u001b[1;33m\u001b[0m\u001b[0m\n\u001b[0;32m      8\u001b[0m \u001b[1;33m\u001b[0m\u001b[0m\n\u001b[1;32m----> 9\u001b[1;33m \u001b[0mfun\u001b[0m\u001b[1;33m(\u001b[0m\u001b[1;33m)\u001b[0m\u001b[1;33m\u001b[0m\u001b[1;33m\u001b[0m\u001b[0m\n\u001b[0m\u001b[0;32m     10\u001b[0m \u001b[0mprint\u001b[0m\u001b[1;33m(\u001b[0m\u001b[1;34m\"global variable outside function = \"\u001b[0m\u001b[1;33m,\u001b[0m \u001b[0mv\u001b[0m\u001b[1;33m)\u001b[0m\u001b[1;33m\u001b[0m\u001b[1;33m\u001b[0m\u001b[0m\n",
      "\u001b[1;32m<ipython-input-6-facfebf304f6>\u001b[0m in \u001b[0;36mfun\u001b[1;34m()\u001b[0m\n\u001b[0;32m      4\u001b[0m \u001b[1;32mdef\u001b[0m \u001b[0mfun\u001b[0m\u001b[1;33m(\u001b[0m\u001b[1;33m)\u001b[0m\u001b[1;33m:\u001b[0m\u001b[1;33m\u001b[0m\u001b[1;33m\u001b[0m\u001b[0m\n\u001b[0;32m      5\u001b[0m     \u001b[1;34m'''Change and print global variable'''\u001b[0m\u001b[1;33m\u001b[0m\u001b[1;33m\u001b[0m\u001b[0m\n\u001b[1;32m----> 6\u001b[1;33m     \u001b[0mv\u001b[0m \u001b[1;33m=\u001b[0m \u001b[0mv\u001b[0m \u001b[1;33m+\u001b[0m \u001b[1;36m1\u001b[0m\u001b[1;33m\u001b[0m\u001b[1;33m\u001b[0m\u001b[0m\n\u001b[0m\u001b[0;32m      7\u001b[0m     \u001b[0mprint\u001b[0m\u001b[1;33m(\u001b[0m\u001b[1;34m\"global variable inside function = \"\u001b[0m\u001b[1;33m,\u001b[0m \u001b[0mv\u001b[0m\u001b[1;33m)\u001b[0m\u001b[1;33m\u001b[0m\u001b[1;33m\u001b[0m\u001b[0m\n\u001b[0;32m      8\u001b[0m \u001b[1;33m\u001b[0m\u001b[0m\n",
      "\u001b[1;31mUnboundLocalError\u001b[0m: local variable 'v' referenced before assignment"
     ]
    }
   ],
   "source": [
    "# Declare global variable\n",
    "v = 5\n",
    "\n",
    "def fun():\n",
    "    '''Change and print global variable'''\n",
    "    v = v + 1\n",
    "    print(\"global variable inside function = \", v)\n",
    "\n",
    "fun()\n",
    "print(\"global variable outside function = \", v)"
   ]
  },
  {
   "cell_type": "markdown",
   "metadata": {},
   "source": [
    "Python throws an error `UnboundLocalError: local variable 'v' referenced before assignment` because if you try to change a variable it is treated as local, but locally it was **not** defined."
   ]
  },
  {
   "cell_type": "markdown",
   "metadata": {},
   "source": [
    "### Keyword `global`"
   ]
  },
  {
   "cell_type": "markdown",
   "metadata": {},
   "source": [
    "If we do want to **change** global variable locally inside function, then we need to use key word `global`."
   ]
  },
  {
   "cell_type": "code",
   "execution_count": 7,
   "metadata": {},
   "outputs": [
    {
     "name": "stdout",
     "output_type": "stream",
     "text": [
      "global variable inside function =  6\n",
      "global variable outside function =  6\n"
     ]
    }
   ],
   "source": [
    "# Declare global variable\n",
    "v = 5\n",
    "\n",
    "def fun():\n",
    "    '''Change and print global variable'''\n",
    "    global v\n",
    "    v = v + 1\n",
    "    print(\"global variable inside function = \", v)\n",
    "\n",
    "fun()\n",
    "print(\"global variable outside function = \", v)"
   ]
  },
  {
   "cell_type": "markdown",
   "metadata": {},
   "source": [
    "Now global variable was successfully changed inside the function and this change is permanent to the global variable."
   ]
  },
  {
   "cell_type": "markdown",
   "metadata": {},
   "source": [
    "But what is happen if we don't change but **redefine** global variable inside function? In this case new variable with the **same** name will be created inside function, **locally**."
   ]
  },
  {
   "cell_type": "markdown",
   "metadata": {},
   "source": [
    "### Local Variable"
   ]
  },
  {
   "cell_type": "markdown",
   "metadata": {},
   "source": [
    "**Local variable** - a variable declared inside function. No keyword `local` or type of variable is required."
   ]
  },
  {
   "cell_type": "code",
   "execution_count": 12,
   "metadata": {},
   "outputs": [
    {
     "name": "stdout",
     "output_type": "stream",
     "text": [
      "redefined global variable inside function is now local =  1\n",
      "global variable outside function stays the same =  5\n"
     ]
    }
   ],
   "source": [
    "# Declare global variable\n",
    "v = 5\n",
    "\n",
    "def fun():\n",
    "    '''Redefine global variable and print it'''\n",
    "    v = 1\n",
    "    print(\"redefined global variable inside function is now local = \", v)\n",
    "\n",
    "fun()\n",
    "print(\"global variable outside function stays the same = \", v)"
   ]
  },
  {
   "cell_type": "markdown",
   "metadata": {},
   "source": [
    "Note, local variable with name `v` doesn't affect global variable with the same name `v` in any way. In pseudocode we can consider existence of two variables `global.v` and `local.v` in our script, but only `local.v` is now refered as `v` inside function."
   ]
  },
  {
   "cell_type": "markdown",
   "metadata": {},
   "source": [
    "### Nonlocal Variable"
   ]
  },
  {
   "cell_type": "markdown",
   "metadata": {},
   "source": [
    "**Nonlocal Variable** - is a variable created in nested function. We need to use key word `nonlocal` to define it. Example from [programiz.com](https://www.programiz.com/python-programming/global-local-nonlocal-variables):"
   ]
  },
  {
   "cell_type": "code",
   "execution_count": 15,
   "metadata": {},
   "outputs": [
    {
     "name": "stdout",
     "output_type": "stream",
     "text": [
      "x in inner function =  inner\n",
      "x in outer function =  inner\n"
     ]
    }
   ],
   "source": [
    "def outer():\n",
    "    x = \"outer\"\n",
    "    \n",
    "    def inner():\n",
    "        nonlocal x\n",
    "        x = \"inner\"\n",
    "        print(\"x in inner function = \", x)\n",
    "    \n",
    "    inner()\n",
    "    print(\"x in outer function = \", x)\n",
    "\n",
    "outer()"
   ]
  },
  {
   "cell_type": "markdown",
   "metadata": {},
   "source": [
    "Note, that variable `x` was changed in `inner` function and stays changed in `outer` function. Compare with the same code but when variable `x` in function `inner` is not defined as `nonlocal`:"
   ]
  },
  {
   "cell_type": "code",
   "execution_count": 16,
   "metadata": {},
   "outputs": [
    {
     "name": "stdout",
     "output_type": "stream",
     "text": [
      "x in inner function =  inner\n",
      "x in outer function =  outer\n"
     ]
    }
   ],
   "source": [
    "def outer():\n",
    "    x = \"outer\"\n",
    "    \n",
    "    def inner():\n",
    "        ### nonlocal x\n",
    "        x = \"inner\"\n",
    "        print(\"x in inner function = \", x)\n",
    "    \n",
    "    inner()\n",
    "    print(\"x in outer function = \", x)\n",
    "\n",
    "outer()"
   ]
  },
  {
   "cell_type": "markdown",
   "metadata": {},
   "source": [
    "Now `x` in `outer` and `x` in `inner` functions are both local and different."
   ]
  },
  {
   "cell_type": "markdown",
   "metadata": {},
   "source": [
    "## Nested Function"
   ]
  },
  {
   "cell_type": "markdown",
   "metadata": {},
   "source": []
  },
  {
   "cell_type": "markdown",
   "metadata": {},
   "source": [
    "## Function Returns Function"
   ]
  },
  {
   "cell_type": "markdown",
   "metadata": {},
   "source": [
    "Example from [datacamp.com](https://campus.datacamp.com/courses/python-data-science-toolbox-part-1)"
   ]
  },
  {
   "cell_type": "code",
   "execution_count": 20,
   "metadata": {},
   "outputs": [
    {
     "name": "stdout",
     "output_type": "stream",
     "text": [
      "type of square =  <class 'function'>\n",
      "type of cube <class 'function'>\n",
      "100\n",
      "1000\n"
     ]
    }
   ],
   "source": [
    "def raise_val(n):\n",
    "    '''Return the inner function'''\n",
    "    \n",
    "    def inner(x):\n",
    "        '''Raise x to power of n'''\n",
    "        raised = x ** n\n",
    "        return raised # this function returns variable\n",
    "    \n",
    "    return inner # this function returns function!\n",
    "\n",
    "square = raise_val(2) # square is function!\n",
    "cube = raise_val(3) # cube is function!\n",
    "\n",
    "print(\"type of square = \", type(square))\n",
    "print(\"type of cube\",type(cube))\n",
    "\n",
    "print(square(10))\n",
    "print(cube(10))"
   ]
  },
  {
   "cell_type": "code",
   "execution_count": null,
   "metadata": {},
   "outputs": [],
   "source": []
  }
 ],
 "metadata": {
  "kernelspec": {
   "display_name": "Python 3",
   "language": "python",
   "name": "python3"
  },
  "language_info": {
   "codemirror_mode": {
    "name": "ipython",
    "version": 3
   },
   "file_extension": ".py",
   "mimetype": "text/x-python",
   "name": "python",
   "nbconvert_exporter": "python",
   "pygments_lexer": "ipython3",
   "version": "3.7.4"
  }
 },
 "nbformat": 4,
 "nbformat_minor": 4
}
