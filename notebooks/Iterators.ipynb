{
 "cells": [
  {
   "cell_type": "markdown",
   "metadata": {},
   "source": [
    "# Iterators"
   ]
  },
  {
   "cell_type": "markdown",
   "metadata": {},
   "source": [
    "## Resources"
   ]
  },
  {
   "cell_type": "markdown",
   "metadata": {},
   "source": [
    " * [programiz.com](https://www.programiz.com/python-programming/iterator)\n",
    " * [datacamp.com](https://www.datacamp.com)"
   ]
  },
  {
   "cell_type": "markdown",
   "metadata": {},
   "source": [
    "## What is Iterator?"
   ]
  },
  {
   "cell_type": "markdown",
   "metadata": {},
   "source": [
    "**Iterator** is an object which returns data from an **iterable object**, one element at a time. We can run through iterator only once, then we have to reinitialize it.\n",
    "\n",
    "Technically speaking, to make object iterable we must implement two special methods, `__iter__()` and `__next__()`, collectively called the iterator protocol.\n",
    "\n",
    "Most of built-in containers in Python like: `tuple`, `list`, `dictionary`, `string` etc. are iterable objects."
   ]
  },
  {
   "cell_type": "markdown",
   "metadata": {},
   "source": [
    "We use the `iter()` function or `__iter__()` method to create iterator object from an iterable object. Let's start with one of the simples iterable object - `list`:"
   ]
  },
  {
   "cell_type": "code",
   "execution_count": 9,
   "metadata": {},
   "outputs": [
    {
     "name": "stdout",
     "output_type": "stream",
     "text": [
      "<list_iterator object at 0x000002CE91E35748>\n",
      "<list_iterator object at 0x000002CE91E35888>\n"
     ]
    }
   ],
   "source": [
    "lst = [1,2,3,4]\n",
    "it1 = iter(lst)\n",
    "it2 = lst.__iter__()\n",
    "\n",
    "print(it1)\n",
    "print(it2)"
   ]
  },
  {
   "cell_type": "markdown",
   "metadata": {},
   "source": [
    "Note, function `iter` or method `__iter__` make iteratos with the same properties, `it1` and `it2` in the example above are similar objects (although not the same)."
   ]
  },
  {
   "cell_type": "markdown",
   "metadata": {},
   "source": [
    "## How to Iterate Through an Iterator?"
   ]
  },
  {
   "cell_type": "markdown",
   "metadata": {},
   "source": [
    "We use the `next()` function or `__next__()` method to manually iterate through all the items - one element at a time. When we reach the end of the iterator and there is no more data to be returned, it will raise `StopIteration`:"
   ]
  },
  {
   "cell_type": "code",
   "execution_count": 3,
   "metadata": {},
   "outputs": [
    {
     "name": "stdout",
     "output_type": "stream",
     "text": [
      "1\n",
      "2\n",
      "3\n",
      "4\n"
     ]
    },
    {
     "ename": "StopIteration",
     "evalue": "",
     "output_type": "error",
     "traceback": [
      "\u001b[1;31m---------------------------------------------------------------------------\u001b[0m",
      "\u001b[1;31mStopIteration\u001b[0m                             Traceback (most recent call last)",
      "\u001b[1;32m<ipython-input-3-e93f9722c6b3>\u001b[0m in \u001b[0;36m<module>\u001b[1;34m\u001b[0m\n\u001b[0;32m      8\u001b[0m \u001b[0mprint\u001b[0m\u001b[1;33m(\u001b[0m\u001b[0mit\u001b[0m\u001b[1;33m.\u001b[0m\u001b[0m__next__\u001b[0m\u001b[1;33m(\u001b[0m\u001b[1;33m)\u001b[0m\u001b[1;33m)\u001b[0m\u001b[1;33m\u001b[0m\u001b[1;33m\u001b[0m\u001b[0m\n\u001b[0;32m      9\u001b[0m \u001b[1;33m\u001b[0m\u001b[0m\n\u001b[1;32m---> 10\u001b[1;33m \u001b[0mprint\u001b[0m\u001b[1;33m(\u001b[0m\u001b[0mnext\u001b[0m\u001b[1;33m(\u001b[0m\u001b[0mit\u001b[0m\u001b[1;33m)\u001b[0m\u001b[1;33m)\u001b[0m \u001b[1;31m# <-- no items left, will raise error `StopIteration`\u001b[0m\u001b[1;33m\u001b[0m\u001b[1;33m\u001b[0m\u001b[0m\n\u001b[0m",
      "\u001b[1;31mStopIteration\u001b[0m: "
     ]
    }
   ],
   "source": [
    "lst = [1,2,3,4]\n",
    "it = iter(lst)\n",
    "\n",
    "print(next(it))\n",
    "print(next(it))\n",
    "# or\n",
    "print(it.__next__())\n",
    "print(it.__next__())\n",
    "\n",
    "print(next(it)) # <-- no items left, will raise error `StopIteration`"
   ]
  },
  {
   "cell_type": "markdown",
   "metadata": {},
   "source": [
    "**THIS IS IMPORTANT, we can iterate over items of an iterator only once, to repeat the iterative process we have to reinitialize it!**"
   ]
  },
  {
   "cell_type": "markdown",
   "metadata": {},
   "source": [
    "## Iterators as Function Arguments"
   ]
  },
  {
   "cell_type": "markdown",
   "metadata": {},
   "source": [
    "There are functions that accept iterator objects as arguments, for example built-in `sum()`:"
   ]
  },
  {
   "cell_type": "code",
   "execution_count": 84,
   "metadata": {},
   "outputs": [
    {
     "name": "stdout",
     "output_type": "stream",
     "text": [
      "<class 'list_iterator'>\n",
      "10\n"
     ]
    }
   ],
   "source": [
    "lst = [1,2,3,4]\n",
    "it = iter(lst)\n",
    "print(type(it))\n",
    "print(sum(it))"
   ]
  },
  {
   "cell_type": "markdown",
   "metadata": {},
   "source": [
    "Note, that `sum()` accepts both, iterable object or iterator object, and produces the same result:"
   ]
  },
  {
   "cell_type": "code",
   "execution_count": 85,
   "metadata": {},
   "outputs": [
    {
     "name": "stdout",
     "output_type": "stream",
     "text": [
      "10\n",
      "10\n"
     ]
    }
   ],
   "source": [
    "lst = [1,2,3,4]\n",
    "it = iter(lst)\n",
    "print(sum(lst))\n",
    "print(sum(it))"
   ]
  },
  {
   "cell_type": "markdown",
   "metadata": {},
   "source": [
    "Be very careful, iterator could be accessed only **once** or we need to reinitialize it:"
   ]
  },
  {
   "cell_type": "code",
   "execution_count": 95,
   "metadata": {},
   "outputs": [
    {
     "name": "stdout",
     "output_type": "stream",
     "text": [
      "<class 'list_iterator'>\n",
      "1st access:  10\n",
      "2nd access:  0\n"
     ]
    }
   ],
   "source": [
    "lst = [1,2,3,4]\n",
    "it = iter(lst)\n",
    "print(type(it)) # <-- this is OK, we don't iterate through items of iterator when call `type` function\n",
    "print(\"1st access: \", sum(it)) # <-- here we go through all items of iterator till the end and summ them all up\n",
    "print(\"2nd access: \", sum(it)) # <-- we already reached end of iterator, no data left"
   ]
  },
  {
   "cell_type": "markdown",
   "metadata": {},
   "source": [
    "It is frequently convinient to convert iterator object to a `list`, for example to visualize content of it:"
   ]
  },
  {
   "cell_type": "code",
   "execution_count": 87,
   "metadata": {},
   "outputs": [
    {
     "name": "stdout",
     "output_type": "stream",
     "text": [
      "<class 'list_iterator'>\n",
      "[1, 2, 3, 4]\n"
     ]
    }
   ],
   "source": [
    "lst = [1,2,3,4]\n",
    "it = iter(lst)\n",
    "print(type(it))\n",
    "print(list(it))"
   ]
  },
  {
   "cell_type": "markdown",
   "metadata": {},
   "source": [
    "Again, be very careful, **don't access same iterator more then once** or we need to reinitialize it:"
   ]
  },
  {
   "cell_type": "code",
   "execution_count": 88,
   "metadata": {},
   "outputs": [
    {
     "name": "stdout",
     "output_type": "stream",
     "text": [
      "1st access:  [1, 2, 3, 4]\n",
      "2nd access:  []\n"
     ]
    }
   ],
   "source": [
    "lst = [1,2,3,4]\n",
    "it = iter(lst)\n",
    "print(\"1st access: \", list(it))\n",
    "print(\"2nd access: \", list(it))"
   ]
  },
  {
   "cell_type": "markdown",
   "metadata": {},
   "source": [
    "## Unpack Iterator"
   ]
  },
  {
   "cell_type": "markdown",
   "metadata": {},
   "source": [
    "Iterator could be unpacked with asterisk `*` prefix - it returns all elements of iterable object, it is especially useful if we want to print content of iterator:"
   ]
  },
  {
   "cell_type": "code",
   "execution_count": 89,
   "metadata": {},
   "outputs": [
    {
     "name": "stdout",
     "output_type": "stream",
     "text": [
      "1 2 3 4\n"
     ]
    }
   ],
   "source": [
    "lst = [1,2,3,4]\n",
    "it = iter(lst)\n",
    "print(*it)"
   ]
  },
  {
   "cell_type": "markdown",
   "metadata": {},
   "source": [
    "Again, note that we can do this only **once** or we need to reinitialize iterator:"
   ]
  },
  {
   "cell_type": "code",
   "execution_count": 90,
   "metadata": {},
   "outputs": [
    {
     "name": "stdout",
     "output_type": "stream",
     "text": [
      "1st access:  1 2 3 4\n",
      "2nd access\n"
     ]
    }
   ],
   "source": [
    "lst = [1,2,3,4]\n",
    "it = iter(lst)\n",
    "print(\"1st access: \",*it)\n",
    "print(\"2nd access\",*it)"
   ]
  },
  {
   "cell_type": "markdown",
   "metadata": {},
   "source": [
    "## Iterating in a Loop"
   ]
  },
  {
   "cell_type": "markdown",
   "metadata": {},
   "source": [
    "`For` loop allows more short and elegant access to items of an iterable object. Also, we can loop through items of iterable object multiple times since iterator is initialized in first line of the loop every time we call it:"
   ]
  },
  {
   "cell_type": "code",
   "execution_count": 96,
   "metadata": {},
   "outputs": [
    {
     "name": "stdout",
     "output_type": "stream",
     "text": [
      "1\n",
      "2\n",
      "3\n",
      "4\n",
      "1\n",
      "2\n",
      "3\n",
      "4\n"
     ]
    }
   ],
   "source": [
    "lst = [1,2,3,4]\n",
    "for i in lst:\n",
    "    print(i)\n",
    "# and repeat loop again\n",
    "for i in lst:\n",
    "    print(i)"
   ]
  },
  {
   "cell_type": "markdown",
   "metadata": {},
   "source": [
    "This loop is actually implemented as follows:"
   ]
  },
  {
   "cell_type": "code",
   "execution_count": 6,
   "metadata": {},
   "outputs": [
    {
     "name": "stdout",
     "output_type": "stream",
     "text": [
      "1\n",
      "2\n",
      "3\n",
      "4\n"
     ]
    }
   ],
   "source": [
    "it = iter(lst)\n",
    "while True:\n",
    "    try:\n",
    "        i = next(it)\n",
    "        print(i)\n",
    "    except StopIteration:\n",
    "        break"
   ]
  },
  {
   "cell_type": "markdown",
   "metadata": {},
   "source": [
    "## Iterate over Range"
   ]
  },
  {
   "cell_type": "markdown",
   "metadata": {},
   "source": [
    "It is frequently convinient to iterate over iterable sequence of numbers produced by built-in function `range()` which returns iterable object:"
   ]
  },
  {
   "cell_type": "code",
   "execution_count": 92,
   "metadata": {},
   "outputs": [
    {
     "name": "stdout",
     "output_type": "stream",
     "text": [
      "0 1 2 3 4 5 6 7 8 9\n"
     ]
    }
   ],
   "source": [
    "r = range(10)\n",
    "it = iter(r)\n",
    "print(*it)"
   ]
  },
  {
   "cell_type": "markdown",
   "metadata": {},
   "source": [
    "Or do the same in a loop:"
   ]
  },
  {
   "cell_type": "code",
   "execution_count": 93,
   "metadata": {},
   "outputs": [
    {
     "name": "stdout",
     "output_type": "stream",
     "text": [
      "0\n",
      "1\n",
      "2\n",
      "3\n",
      "4\n",
      "5\n",
      "6\n",
      "7\n",
      "8\n",
      "9\n"
     ]
    }
   ],
   "source": [
    "for i in range(10):\n",
    "    print(i)"
   ]
  },
  {
   "cell_type": "markdown",
   "metadata": {},
   "source": [
    "## Iterate over Dictionary"
   ]
  },
  {
   "cell_type": "markdown",
   "metadata": {},
   "source": [
    "If we apply `iter()` to dictionary then we will get only keys, so we need to apply it to `dictionary.items()` to iterate through all pairs:"
   ]
  },
  {
   "cell_type": "code",
   "execution_count": 29,
   "metadata": {},
   "outputs": [
    {
     "name": "stdout",
     "output_type": "stream",
     "text": [
      "number string\n"
     ]
    }
   ],
   "source": [
    "dct = {'number': 1, \"string\": \"abc\"}\n",
    "it = iter(dct) # <-- note `dct.items()` here\n",
    "print(*it)"
   ]
  },
  {
   "cell_type": "code",
   "execution_count": 30,
   "metadata": {},
   "outputs": [
    {
     "name": "stdout",
     "output_type": "stream",
     "text": [
      "('number', 1) ('string', 'abc')\n"
     ]
    }
   ],
   "source": [
    "dct = {'number': 1, \"string\": \"abc\"}\n",
    "it = iter(dct.items()) # <-- note `dct.items()` here\n",
    "print(*it)"
   ]
  },
  {
   "cell_type": "markdown",
   "metadata": {},
   "source": [
    "Iterate over dictionary in a loop:"
   ]
  },
  {
   "cell_type": "code",
   "execution_count": 32,
   "metadata": {},
   "outputs": [
    {
     "name": "stdout",
     "output_type": "stream",
     "text": [
      "number 1\n",
      "string abc\n"
     ]
    }
   ],
   "source": [
    "dct = {'number': 1, \"string\": \"abc\"}\n",
    "for key, val in dct.items():\n",
    "    print(key, val)"
   ]
  },
  {
   "cell_type": "markdown",
   "metadata": {},
   "source": [
    "## Iterate over File Connection"
   ]
  },
  {
   "cell_type": "markdown",
   "metadata": {},
   "source": [
    "If we apply `iter()` to file connection then we will get individual lines:"
   ]
  },
  {
   "cell_type": "code",
   "execution_count": 39,
   "metadata": {},
   "outputs": [
    {
     "name": "stdout",
     "output_type": "stream",
     "text": [
      "Shall I compare thee to a summer's day?\n",
      "\n",
      "Thou art more lovely and more temperate:\n",
      "\n",
      "Rough winds do shake the darling buds of May,\n",
      "\n",
      "And summer's lease hath all too short a date;\n",
      "\n"
     ]
    }
   ],
   "source": [
    "f = open('../data/test/test_14L.txt')\n",
    "it = iter(f)\n",
    "\n",
    "print(next(it))\n",
    "print(next(it))\n",
    "# or\n",
    "print(it.__next__())\n",
    "print(it.__next__())"
   ]
  },
  {
   "cell_type": "markdown",
   "metadata": {},
   "source": [
    "Iterate over file connection in a loop:"
   ]
  },
  {
   "cell_type": "code",
   "execution_count": 40,
   "metadata": {},
   "outputs": [
    {
     "name": "stdout",
     "output_type": "stream",
     "text": [
      "Shall I compare thee to a summer's day?\n",
      "\n",
      "Thou art more lovely and more temperate:\n",
      "\n",
      "Rough winds do shake the darling buds of May,\n",
      "\n",
      "And summer's lease hath all too short a date;\n",
      "\n",
      "Sometime too hot the eye of heaven shines,\n",
      "\n",
      "And often is his gold complexion dimm'd;\n",
      "\n",
      "And every fair from fair sometime declines,\n",
      "\n",
      "By chance or nature's changing course untrimm'd;\n",
      "\n",
      "But thy eternal summer shall not fade,\n",
      "\n",
      "Nor lose possession of that fair thou ow'st;\n",
      "\n",
      "Nor shall death brag thou wander'st in his shade,\n",
      "\n",
      "When in eternal lines to time thou grow'st:\n",
      "\n",
      "So long as men can breathe or eyes can see,\n",
      "\n",
      "So long lives this, and this gives life to thee.\n"
     ]
    }
   ],
   "source": [
    "f = open('../data/test/test_14L.txt')\n",
    "\n",
    "for line in f:\n",
    "    print(line)"
   ]
  },
  {
   "cell_type": "markdown",
   "metadata": {},
   "source": [
    "## Build Custom Iterator"
   ]
  },
  {
   "cell_type": "markdown",
   "metadata": {},
   "source": [
    "Building an iterator from scratch is easy in Python. We just have to implement the methods `__iter__()` and `__next__()`.\n",
    "\n",
    "The `__iter__()` method returns the iterator object itself. If required, some initialization can be performed.\n",
    "\n",
    "The `__next__()` method must return the next item in the sequence. On reaching the end, and in subsequent calls, it must raise `StopIteration`.\n",
    "\n",
    "Here, we show an example that will give us next power of 2 in each iteration. Power exponent starts from zero up to a user set number. The example is taken from [programiz.com](https://www.programiz.com/python-programming/iterator)."
   ]
  },
  {
   "cell_type": "code",
   "execution_count": 17,
   "metadata": {},
   "outputs": [],
   "source": [
    "class PowTwo:\n",
    "    \"\"\"Class to implement an iterator\n",
    "    of powers of two\"\"\"\n",
    "\n",
    "    def __init__(self, max = 0):\n",
    "        self.max = max\n",
    "\n",
    "    def __iter__(self):\n",
    "        self.n = 0\n",
    "        return self\n",
    "\n",
    "    def __next__(self):\n",
    "        if self.n <= self.max:\n",
    "            result = 2 ** self.n\n",
    "            self.n += 1\n",
    "            return result\n",
    "        else:\n",
    "            raise StopIteration"
   ]
  },
  {
   "cell_type": "markdown",
   "metadata": {},
   "source": [
    "First, let's go through it manually, one by one:"
   ]
  },
  {
   "cell_type": "code",
   "execution_count": 21,
   "metadata": {},
   "outputs": [
    {
     "name": "stdout",
     "output_type": "stream",
     "text": [
      "1\n",
      "2\n",
      "4\n",
      "8\n"
     ]
    },
    {
     "ename": "StopIteration",
     "evalue": "",
     "output_type": "error",
     "traceback": [
      "\u001b[1;31m---------------------------------------------------------------------------\u001b[0m",
      "\u001b[1;31mStopIteration\u001b[0m                             Traceback (most recent call last)",
      "\u001b[1;32m<ipython-input-21-1e975b08e72b>\u001b[0m in \u001b[0;36m<module>\u001b[1;34m\u001b[0m\n\u001b[0;32m      7\u001b[0m \u001b[0mprint\u001b[0m\u001b[1;33m(\u001b[0m\u001b[0mit\u001b[0m\u001b[1;33m.\u001b[0m\u001b[0m__next__\u001b[0m\u001b[1;33m(\u001b[0m\u001b[1;33m)\u001b[0m\u001b[1;33m)\u001b[0m\u001b[1;33m\u001b[0m\u001b[1;33m\u001b[0m\u001b[0m\n\u001b[0;32m      8\u001b[0m \u001b[0mprint\u001b[0m\u001b[1;33m(\u001b[0m\u001b[0mit\u001b[0m\u001b[1;33m.\u001b[0m\u001b[0m__next__\u001b[0m\u001b[1;33m(\u001b[0m\u001b[1;33m)\u001b[0m\u001b[1;33m)\u001b[0m\u001b[1;33m\u001b[0m\u001b[1;33m\u001b[0m\u001b[0m\n\u001b[1;32m----> 9\u001b[1;33m \u001b[0mprint\u001b[0m\u001b[1;33m(\u001b[0m\u001b[0mit\u001b[0m\u001b[1;33m.\u001b[0m\u001b[0m__next__\u001b[0m\u001b[1;33m(\u001b[0m\u001b[1;33m)\u001b[0m\u001b[1;33m)\u001b[0m \u001b[1;31m# <-- this will raise error\u001b[0m\u001b[1;33m\u001b[0m\u001b[1;33m\u001b[0m\u001b[0m\n\u001b[0m",
      "\u001b[1;32m<ipython-input-17-9ee5a30174e7>\u001b[0m in \u001b[0;36m__next__\u001b[1;34m(self)\u001b[0m\n\u001b[0;32m     16\u001b[0m             \u001b[1;32mreturn\u001b[0m \u001b[0mresult\u001b[0m\u001b[1;33m\u001b[0m\u001b[1;33m\u001b[0m\u001b[0m\n\u001b[0;32m     17\u001b[0m         \u001b[1;32melse\u001b[0m\u001b[1;33m:\u001b[0m\u001b[1;33m\u001b[0m\u001b[1;33m\u001b[0m\u001b[0m\n\u001b[1;32m---> 18\u001b[1;33m             \u001b[1;32mraise\u001b[0m \u001b[0mStopIteration\u001b[0m\u001b[1;33m\u001b[0m\u001b[1;33m\u001b[0m\u001b[0m\n\u001b[0m",
      "\u001b[1;31mStopIteration\u001b[0m: "
     ]
    }
   ],
   "source": [
    "x = PowTwo(3)\n",
    "it = iter(x)\n",
    "\n",
    "print(next(it))\n",
    "print(next(it))\n",
    "# or\n",
    "print(it.__next__())\n",
    "print(it.__next__())\n",
    "print(it.__next__()) # <-- this will raise error"
   ]
  },
  {
   "cell_type": "markdown",
   "metadata": {},
   "source": [
    "Second, let's go through it in a loop:"
   ]
  },
  {
   "cell_type": "code",
   "execution_count": 22,
   "metadata": {},
   "outputs": [
    {
     "name": "stdout",
     "output_type": "stream",
     "text": [
      "1\n",
      "2\n",
      "4\n",
      "8\n"
     ]
    }
   ],
   "source": [
    "for i in PowTwo(3):\n",
    "    print(i)"
   ]
  },
  {
   "cell_type": "markdown",
   "metadata": {},
   "source": [
    "Note, if `__next__()` method doesn't have `raise StopIteration` command then it could easily lead to an **infinite** loop, so be careful if you call infinite iterator with `for` loop!\n",
    "\n",
    "Let's implement **infinite iterable object** - the same class but without upper boundary and `raise StopIteration` command:"
   ]
  },
  {
   "cell_type": "code",
   "execution_count": 23,
   "metadata": {},
   "outputs": [],
   "source": [
    "class PowTwo:\n",
    "    \"\"\"Class to implement an iterator\n",
    "    of powers of two\"\"\"\n",
    "\n",
    "    def __init__(self):\n",
    "        pass\n",
    "\n",
    "    def __iter__(self):\n",
    "        self.n = 0\n",
    "        return self\n",
    "\n",
    "    def __next__(self):\n",
    "        result = 2 ** self.n\n",
    "        self.n += 1\n",
    "        return result"
   ]
  },
  {
   "cell_type": "code",
   "execution_count": 97,
   "metadata": {},
   "outputs": [
    {
     "name": "stdout",
     "output_type": "stream",
     "text": [
      "1\n",
      "2\n",
      "4\n",
      "8\n",
      "16\n"
     ]
    }
   ],
   "source": [
    "x = PowTwo()\n",
    "it = iter(x)\n",
    "\n",
    "print(next(it))\n",
    "print(next(it))\n",
    "# or\n",
    "print(it.__next__())\n",
    "print(it.__next__())\n",
    "print(it.__next__()) # <-- this will NOT raise error anymore, we can iterate to infinity"
   ]
  },
  {
   "cell_type": "markdown",
   "metadata": {},
   "source": [
    "## Efficient Memory Management with Iterators"
   ]
  },
  {
   "cell_type": "markdown",
   "metadata": {},
   "source": [
    "Note, iterator items are not created at the time of definition, instead iterator produces items every time we call `next()` until it reaches the limit.\n",
    "\n",
    "Example from [datacamp.com](https://datacamp.com):\n",
    " * `range()` doesn't create actual list, but creates set of rules how items are defined - iterable object\n",
    " * `iter()` prepares to create first item\n",
    " * `next()` creates next item and discards previous item, so it leaves very small memory foot print\n",
    "\n",
    "If `range()` would create the full actual list, calling it with a value. for instance, of $10^{100}$ may not work, especially since the number as big as that may go over a regular computer's memory. But since it doesn't create the list, we can easily define such `range` object and iterate over it manually:"
   ]
  },
  {
   "cell_type": "code",
   "execution_count": 43,
   "metadata": {},
   "outputs": [
    {
     "name": "stdout",
     "output_type": "stream",
     "text": [
      "0\n",
      "1\n",
      "2\n",
      "3\n"
     ]
    }
   ],
   "source": [
    "r = range(10 ** 100) # <-- 10^100 is used here without problem\n",
    "it = iter(r)\n",
    "print(next(it))\n",
    "print(next(it))\n",
    "# or\n",
    "print(it.__next__())\n",
    "print(it.__next__())"
   ]
  },
  {
   "cell_type": "markdown",
   "metadata": {},
   "source": [
    "Note, we don't want to convert this iterator to `list`, or unpack it with `*it`, or loop through it, since all of such access methods will infinitly run."
   ]
  },
  {
   "cell_type": "markdown",
   "metadata": {},
   "source": [
    "## Enumerate"
   ]
  },
  {
   "cell_type": "markdown",
   "metadata": {},
   "source": [
    "The `enumerate()` adds counter to an iterable object and return new object of `enumerate` type which contains pairs of index of item from iterable and item itself:"
   ]
  },
  {
   "cell_type": "code",
   "execution_count": 78,
   "metadata": {},
   "outputs": [
    {
     "name": "stdout",
     "output_type": "stream",
     "text": [
      "<class 'range'>\n",
      "<class 'enumerate'>\n",
      "<enumerate object at 0x000002CE91E61BD8>\n",
      "(0, 0)\n",
      "(1, 1)\n",
      "(2, 2)\n",
      "(3, 3)\n"
     ]
    }
   ],
   "source": [
    "r = range(10)\n",
    "en = enumerate(r)\n",
    "print(type(r))\n",
    "print(type(en))\n",
    "print(en) # <-- note, this returns `enumerate` object but not its content\n",
    "print(next(en))\n",
    "print(next(en))\n",
    "# or\n",
    "print(en.__next__())\n",
    "print(en.__next__())"
   ]
  },
  {
   "cell_type": "markdown",
   "metadata": {},
   "source": [
    "By default `enumerate` starts counting from `0`, but it could be changed with second argument `start`: `enumerate(iterable, start = 0)`.\n",
    "\n",
    "Note, as always with iterators, we can enumerate any iterable object and print it out after converting to a list of tuples:"
   ]
  },
  {
   "cell_type": "code",
   "execution_count": 55,
   "metadata": {},
   "outputs": [
    {
     "name": "stdout",
     "output_type": "stream",
     "text": [
      "[(1, 1), (2, 2), (3, 'a'), (4, 'b')]\n"
     ]
    }
   ],
   "source": [
    "lst = [1,2, \"a\", \"b\"]\n",
    "en = enumerate(lst, start = 1)\n",
    "print(list(en)) # <-- note, this converts `enumerate` object into a list of tuples"
   ]
  },
  {
   "cell_type": "markdown",
   "metadata": {},
   "source": [
    "or we can use upnpack asterisk `*` operator for printing:"
   ]
  },
  {
   "cell_type": "code",
   "execution_count": 56,
   "metadata": {},
   "outputs": [
    {
     "name": "stdout",
     "output_type": "stream",
     "text": [
      "(1, 1) (2, 2) (3, 'a') (4, 'b')\n"
     ]
    }
   ],
   "source": [
    "lst = [1,2, \"a\", \"b\"]\n",
    "en = enumerate(lst, start = 1)\n",
    "print(*en)"
   ]
  },
  {
   "cell_type": "markdown",
   "metadata": {},
   "source": [
    "Remember, we can iterate over items of an iterator only once or we have to reinitialize it:"
   ]
  },
  {
   "cell_type": "code",
   "execution_count": 108,
   "metadata": {},
   "outputs": [
    {
     "name": "stdout",
     "output_type": "stream",
     "text": [
      "1st access:  [(1, 1), (2, 2), (3, 'a'), (4, 'b')]\n",
      "2nd access:  []\n"
     ]
    }
   ],
   "source": [
    "lst = [1,2, \"a\", \"b\"]\n",
    "en = enumerate(lst, start = 1)\n",
    "print(\"1st access: \", list(en)) # <-- note, this converts `enumerate` object into a list of tuples\n",
    "print(\"2nd access: \", list(en))"
   ]
  },
  {
   "cell_type": "markdown",
   "metadata": {},
   "source": [
    "We can loop over `enumerate` object:"
   ]
  },
  {
   "cell_type": "code",
   "execution_count": 103,
   "metadata": {},
   "outputs": [
    {
     "name": "stdout",
     "output_type": "stream",
     "text": [
      "1 1\n",
      "2 2\n",
      "3 a\n",
      "4 b\n"
     ]
    }
   ],
   "source": [
    "lst = [1,2, \"a\", \"b\"]\n",
    "\n",
    "for index, value in enumerate(lst, start = 1):\n",
    "    print(index, value)"
   ]
  },
  {
   "cell_type": "markdown",
   "metadata": {},
   "source": [
    "## Zip"
   ]
  },
  {
   "cell_type": "markdown",
   "metadata": {},
   "source": [
    "The `zip()` function take iterables, aggregates items from iterables based on the order, and returns an iterator of tuples:"
   ]
  },
  {
   "cell_type": "code",
   "execution_count": 98,
   "metadata": {},
   "outputs": [
    {
     "name": "stdout",
     "output_type": "stream",
     "text": [
      "<class 'zip'>\n",
      "<zip object at 0x000002CE91E5F508>\n",
      "(1, 'a')\n",
      "[(2, 'b'), (3, 'c'), (4, 'd')]\n"
     ]
    }
   ],
   "source": [
    "lst1 = [1,2,3,4]\n",
    "lst2 = [\"a\",\"b\",\"c\",\"d\"]\n",
    "z = zip(lst1, lst2)\n",
    "print(type(z))\n",
    "print(z) # <-- note, this returns `zip` object but not its content\n",
    "print(next(z)) # <-- access first item with `next`\n",
    "print(list(z)) # <-- note, this converts `zip` object into a list of tuples starting from second item"
   ]
  },
  {
   "cell_type": "markdown",
   "metadata": {},
   "source": [
    "Unpacking also works for `zip` object:"
   ]
  },
  {
   "cell_type": "code",
   "execution_count": 100,
   "metadata": {},
   "outputs": [
    {
     "name": "stdout",
     "output_type": "stream",
     "text": [
      "(1, 'a') (2, 'b') (3, 'c') (4, 'd')\n"
     ]
    }
   ],
   "source": [
    "lst1 = [1,2,3,4]\n",
    "lst2 = [\"a\",\"b\",\"c\",\"d\"]\n",
    "z = zip(lst1, lst2)\n",
    "print(*z) # <-- note, this unpacks `zip` object"
   ]
  },
  {
   "cell_type": "markdown",
   "metadata": {},
   "source": [
    "`zip()` with zero arguments:"
   ]
  },
  {
   "cell_type": "code",
   "execution_count": 70,
   "metadata": {},
   "outputs": [
    {
     "name": "stdout",
     "output_type": "stream",
     "text": [
      "<class 'zip'>\n",
      "<zip object at 0x000002CE91E70308>\n",
      "[]\n"
     ]
    }
   ],
   "source": [
    "z = zip()\n",
    "print(type(z))\n",
    "print(z) # <-- note, this returns `zip` object but not its content\n",
    "print(list(z)) # <-- note, this converts `zip` object into a list of tuples"
   ]
  },
  {
   "cell_type": "markdown",
   "metadata": {},
   "source": [
    "`zip()` with 1 argument:"
   ]
  },
  {
   "cell_type": "code",
   "execution_count": 101,
   "metadata": {},
   "outputs": [
    {
     "name": "stdout",
     "output_type": "stream",
     "text": [
      "<class 'zip'>\n",
      "<zip object at 0x000002CE91E672C8>\n",
      "[(1,), (2,), (3,), (4,)]\n"
     ]
    }
   ],
   "source": [
    "lst = [1,2,3,4]\n",
    "z = zip(lst)\n",
    "print(type(z))\n",
    "print(z) # <-- note, this returns `zip` object but not its content\n",
    "print(list(z)) # <-- note, this converts `zip` object into a list of tuples"
   ]
  },
  {
   "cell_type": "markdown",
   "metadata": {},
   "source": [
    "`zip()` with 3 (or more) arguments:"
   ]
  },
  {
   "cell_type": "code",
   "execution_count": 102,
   "metadata": {},
   "outputs": [
    {
     "name": "stdout",
     "output_type": "stream",
     "text": [
      "<class 'zip'>\n",
      "<zip object at 0x000002CE91E76708>\n",
      "(1, 'a', 1.0) (2, 'b', 2.1) (3, 'c', 3.2) (4, 'd', 4.3)\n"
     ]
    }
   ],
   "source": [
    "lst1 = [1,2,3,4]\n",
    "lst2 = [\"a\",\"b\",\"c\",\"d\"]\n",
    "lst3 = [1.0, 2.1, 3.2, 4.3]\n",
    "z = zip(lst1, lst2, lst3)\n",
    "print(type(z))\n",
    "print(z) # <-- note, this returns `zip` object but not its content\n",
    "print(*z) # <-- note, this unpacks `zip` object"
   ]
  },
  {
   "cell_type": "markdown",
   "metadata": {},
   "source": [
    "`zip()` with arguments of different length will be truncated to match smalles length:"
   ]
  },
  {
   "cell_type": "code",
   "execution_count": 106,
   "metadata": {},
   "outputs": [
    {
     "name": "stdout",
     "output_type": "stream",
     "text": [
      "<class 'zip'>\n",
      "<zip object at 0x000002CE91E84F08>\n",
      "[(1, 'a', 1.0), (2, 'b', 2.1), (3, 'c', 3.2)]\n"
     ]
    }
   ],
   "source": [
    "lst1 = [1,2,3]\n",
    "lst2 = [\"a\",\"b\",\"c\",\"d\"]\n",
    "lst3 = [1.0, 2.1, 3.2, 4.3,5.4]\n",
    "z = zip(lst1, lst2, lst3)\n",
    "print(type(z))\n",
    "print(z) # <-- note, this returns `zip` object but not its content\n",
    "print(list(z)) # <-- note, this converts `zip` object into a list of tuples"
   ]
  },
  {
   "cell_type": "markdown",
   "metadata": {},
   "source": [
    "We can loop over `zip` object:"
   ]
  },
  {
   "cell_type": "code",
   "execution_count": 104,
   "metadata": {},
   "outputs": [
    {
     "name": "stdout",
     "output_type": "stream",
     "text": [
      "(1, 'a', 1.0)\n",
      "(2, 'b', 2.1)\n",
      "(3, 'c', 3.2)\n"
     ]
    }
   ],
   "source": [
    "lst1 = [1,2,3]\n",
    "lst2 = [\"a\",\"b\",\"c\",\"d\"]\n",
    "lst3 = [1.0, 2.1, 3.2, 4.3,5.4]\n",
    "for i in zip(lst1, lst2, lst3):\n",
    "    print(i)"
   ]
  },
  {
   "cell_type": "code",
   "execution_count": null,
   "metadata": {},
   "outputs": [],
   "source": []
  }
 ],
 "metadata": {
  "kernelspec": {
   "display_name": "Python 3",
   "language": "python",
   "name": "python3"
  },
  "language_info": {
   "codemirror_mode": {
    "name": "ipython",
    "version": 3
   },
   "file_extension": ".py",
   "mimetype": "text/x-python",
   "name": "python",
   "nbconvert_exporter": "python",
   "pygments_lexer": "ipython3",
   "version": "3.7.4"
  }
 },
 "nbformat": 4,
 "nbformat_minor": 4
}
